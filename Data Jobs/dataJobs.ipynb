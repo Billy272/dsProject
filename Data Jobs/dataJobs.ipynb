{
 "cells": [
  {
   "cell_type": "markdown",
   "source": [
    "**Salaries paid to Data Jobs**\n",
    "\n",
    "Using the salaries.csv file, we will be exploring the data to find out the following:\n",
    "1. Average salary of all the jobs\n",
    "2. Average salary for Data Engineers\n",
    "3. Average salary for Data Scientists and Data Science Managers\n",
    "4. Average salary for Data Analysts\n",
    "5. Average salary for Business Analysts\n",
    "6. Average salary for Applied Scientists\n",
    "7. Average salary for Data Lead\n",
    "8. Average salary for Data Quality Analysts\n",
    "9. Average salary for Business Intelligence Engineers\n",
    "10. Average salary for Machine Learning Engineers\n",
    "11. Average salary for Data Strategy Manager\n",
    "12. Average salary for Computer Vision Engineers\n",
    "13. Average salary for BI Analysts\n",
    "\n",
    "We will calculate also how much average they earn per level of experience.\n",
    "\n",
    "The following libraries will be used:\n",
    "1. Pandas\n",
    "2. Matplotlib\n",
    "3. Seaborn\n",
    "4. Numpy\n",
    "5. Scipy\n",
    "6. Statsmodels\n",
    "7. Scikit-learn"
   ],
   "metadata": {
    "collapsed": false
   },
   "id": "a12eb898fd622e99"
  },
  {
   "cell_type": "code",
   "execution_count": 2,
   "outputs": [
    {
     "data": {
      "text/plain": "   work_year experience_level employment_type                      job_title  \\\n0       2023               SE              FT          Business Data Analyst   \n1       2023               SE              FT  Business Intelligence Analyst   \n2       2023               SE              FT  Business Intelligence Analyst   \n3       2023               EN              FT              Applied Scientist   \n4       2023               EN              FT              Applied Scientist   \n5       2023               SE              FT                Data Specialist   \n6       2023               SE              FT                Data Specialist   \n7       2023               MI              FT      Machine Learning Engineer   \n8       2023               MI              FT      Machine Learning Engineer   \n9       2023               MI              FT                   Data Analyst   \n\n   salary salary_currency  salary_in_usd employee_residence  remote_ratio  \\\n0   65000             GBP          79976                 ES           100   \n1  115600             USD         115600                 US             0   \n2   79700             USD          79700                 US             0   \n3  281700             USD         281700                 US             0   \n4  141100             USD         141100                 US             0   \n5  173100             USD         173100                 US             0   \n6   86900             USD          86900                 US             0   \n7  258700             USD         258700                 US             0   \n8  133800             USD         133800                 US             0   \n9  120000             USD         120000                 US             0   \n\n  company_location company_size  \n0               GI            L  \n1               US            M  \n2               US            M  \n3               US            M  \n4               US            M  \n5               US            M  \n6               US            M  \n7               US            M  \n8               US            M  \n9               US            M  ",
      "text/html": "<div>\n<style scoped>\n    .dataframe tbody tr th:only-of-type {\n        vertical-align: middle;\n    }\n\n    .dataframe tbody tr th {\n        vertical-align: top;\n    }\n\n    .dataframe thead th {\n        text-align: right;\n    }\n</style>\n<table border=\"1\" class=\"dataframe\">\n  <thead>\n    <tr style=\"text-align: right;\">\n      <th></th>\n      <th>work_year</th>\n      <th>experience_level</th>\n      <th>employment_type</th>\n      <th>job_title</th>\n      <th>salary</th>\n      <th>salary_currency</th>\n      <th>salary_in_usd</th>\n      <th>employee_residence</th>\n      <th>remote_ratio</th>\n      <th>company_location</th>\n      <th>company_size</th>\n    </tr>\n  </thead>\n  <tbody>\n    <tr>\n      <th>0</th>\n      <td>2023</td>\n      <td>SE</td>\n      <td>FT</td>\n      <td>Business Data Analyst</td>\n      <td>65000</td>\n      <td>GBP</td>\n      <td>79976</td>\n      <td>ES</td>\n      <td>100</td>\n      <td>GI</td>\n      <td>L</td>\n    </tr>\n    <tr>\n      <th>1</th>\n      <td>2023</td>\n      <td>SE</td>\n      <td>FT</td>\n      <td>Business Intelligence Analyst</td>\n      <td>115600</td>\n      <td>USD</td>\n      <td>115600</td>\n      <td>US</td>\n      <td>0</td>\n      <td>US</td>\n      <td>M</td>\n    </tr>\n    <tr>\n      <th>2</th>\n      <td>2023</td>\n      <td>SE</td>\n      <td>FT</td>\n      <td>Business Intelligence Analyst</td>\n      <td>79700</td>\n      <td>USD</td>\n      <td>79700</td>\n      <td>US</td>\n      <td>0</td>\n      <td>US</td>\n      <td>M</td>\n    </tr>\n    <tr>\n      <th>3</th>\n      <td>2023</td>\n      <td>EN</td>\n      <td>FT</td>\n      <td>Applied Scientist</td>\n      <td>281700</td>\n      <td>USD</td>\n      <td>281700</td>\n      <td>US</td>\n      <td>0</td>\n      <td>US</td>\n      <td>M</td>\n    </tr>\n    <tr>\n      <th>4</th>\n      <td>2023</td>\n      <td>EN</td>\n      <td>FT</td>\n      <td>Applied Scientist</td>\n      <td>141100</td>\n      <td>USD</td>\n      <td>141100</td>\n      <td>US</td>\n      <td>0</td>\n      <td>US</td>\n      <td>M</td>\n    </tr>\n    <tr>\n      <th>5</th>\n      <td>2023</td>\n      <td>SE</td>\n      <td>FT</td>\n      <td>Data Specialist</td>\n      <td>173100</td>\n      <td>USD</td>\n      <td>173100</td>\n      <td>US</td>\n      <td>0</td>\n      <td>US</td>\n      <td>M</td>\n    </tr>\n    <tr>\n      <th>6</th>\n      <td>2023</td>\n      <td>SE</td>\n      <td>FT</td>\n      <td>Data Specialist</td>\n      <td>86900</td>\n      <td>USD</td>\n      <td>86900</td>\n      <td>US</td>\n      <td>0</td>\n      <td>US</td>\n      <td>M</td>\n    </tr>\n    <tr>\n      <th>7</th>\n      <td>2023</td>\n      <td>MI</td>\n      <td>FT</td>\n      <td>Machine Learning Engineer</td>\n      <td>258700</td>\n      <td>USD</td>\n      <td>258700</td>\n      <td>US</td>\n      <td>0</td>\n      <td>US</td>\n      <td>M</td>\n    </tr>\n    <tr>\n      <th>8</th>\n      <td>2023</td>\n      <td>MI</td>\n      <td>FT</td>\n      <td>Machine Learning Engineer</td>\n      <td>133800</td>\n      <td>USD</td>\n      <td>133800</td>\n      <td>US</td>\n      <td>0</td>\n      <td>US</td>\n      <td>M</td>\n    </tr>\n    <tr>\n      <th>9</th>\n      <td>2023</td>\n      <td>MI</td>\n      <td>FT</td>\n      <td>Data Analyst</td>\n      <td>120000</td>\n      <td>USD</td>\n      <td>120000</td>\n      <td>US</td>\n      <td>0</td>\n      <td>US</td>\n      <td>M</td>\n    </tr>\n  </tbody>\n</table>\n</div>"
     },
     "execution_count": 2,
     "metadata": {},
     "output_type": "execute_result"
    }
   ],
   "source": [
    "import pandas as pd\n",
    "\n",
    "salaries = pd.read_csv('salaries.csv')\n",
    "\n",
    "salaries.head(10)"
   ],
   "metadata": {
    "collapsed": false,
    "ExecuteTime": {
     "end_time": "2023-11-04T06:32:33.302186585Z",
     "start_time": "2023-11-04T06:32:33.222057910Z"
    }
   },
   "id": "f3d2fece7bae3480"
  },
  {
   "cell_type": "markdown",
   "source": [
    "Checking data types."
   ],
   "metadata": {
    "collapsed": false
   },
   "id": "bb3436d16bd3049"
  },
  {
   "cell_type": "code",
   "execution_count": 3,
   "outputs": [
    {
     "name": "stdout",
     "output_type": "stream",
     "text": [
      "<class 'pandas.core.frame.DataFrame'>\n",
      "RangeIndex: 8270 entries, 0 to 8269\n",
      "Data columns (total 11 columns):\n",
      " #   Column              Non-Null Count  Dtype \n",
      "---  ------              --------------  ----- \n",
      " 0   work_year           8270 non-null   int64 \n",
      " 1   experience_level    8270 non-null   object\n",
      " 2   employment_type     8270 non-null   object\n",
      " 3   job_title           8270 non-null   object\n",
      " 4   salary              8270 non-null   int64 \n",
      " 5   salary_currency     8270 non-null   object\n",
      " 6   salary_in_usd       8270 non-null   int64 \n",
      " 7   employee_residence  8270 non-null   object\n",
      " 8   remote_ratio        8270 non-null   int64 \n",
      " 9   company_location    8270 non-null   object\n",
      " 10  company_size        8270 non-null   object\n",
      "dtypes: int64(4), object(7)\n",
      "memory usage: 710.8+ KB\n"
     ]
    }
   ],
   "source": [
    "salaries.info()"
   ],
   "metadata": {
    "collapsed": false,
    "ExecuteTime": {
     "end_time": "2023-11-04T06:33:41.758792056Z",
     "start_time": "2023-11-04T06:33:41.536736675Z"
    }
   },
   "id": "57e3bb9dea4c72e9"
  },
  {
   "cell_type": "markdown",
   "source": [
    "Checking for null values in the data and summing them up."
   ],
   "metadata": {
    "collapsed": false
   },
   "id": "1a66869f67cf1a49"
  },
  {
   "cell_type": "code",
   "execution_count": 7,
   "outputs": [
    {
     "data": {
      "text/plain": "work_year             0\nexperience_level      0\nemployment_type       0\njob_title             0\nsalary                0\nsalary_currency       0\nsalary_in_usd         0\nemployee_residence    0\nremote_ratio          0\ncompany_location      0\ncompany_size          0\ndtype: int64"
     },
     "execution_count": 7,
     "metadata": {},
     "output_type": "execute_result"
    }
   ],
   "source": [
    "salaries.isnull().sum()"
   ],
   "metadata": {
    "collapsed": false,
    "ExecuteTime": {
     "end_time": "2023-11-04T06:37:53.679179660Z",
     "start_time": "2023-11-04T06:37:53.652807152Z"
    }
   },
   "id": "628c6f38ab199b90"
  },
  {
   "cell_type": "markdown",
   "source": [
    "There are no null values in the data."
   ],
   "metadata": {
    "collapsed": false
   },
   "id": "4ed2827f189859e1"
  },
  {
   "cell_type": "markdown",
   "source": [
    "**Average salary of all the jobs**\n",
    "\n",
    "We will be using the mean() function to calculate the average salary of all the jobs."
   ],
   "metadata": {
    "collapsed": false
   },
   "id": "48951104975abbea"
  },
  {
   "cell_type": "code",
   "execution_count": 10,
   "outputs": [
    {
     "name": "stdout",
     "output_type": "stream",
     "text": [
      "The average salary of all the jobs is: $ 149349.48875453445\n"
     ]
    }
   ],
   "source": [
    "avg_salary = salaries['salary_in_usd'].mean()\n",
    "\n",
    "print('The average salary of all the jobs is: $', avg_salary)"
   ],
   "metadata": {
    "collapsed": false,
    "ExecuteTime": {
     "end_time": "2023-11-04T06:59:23.287969710Z",
     "start_time": "2023-11-04T06:59:23.266260815Z"
    }
   },
   "id": "2df29dd3c10ffc6e"
  },
  {
   "cell_type": "markdown",
   "source": [
    "**Average salary for each Data related jobs**"
   ],
   "metadata": {
    "collapsed": false
   },
   "id": "23e907f2de37f2ca"
  },
  {
   "cell_type": "code",
   "execution_count": 22,
   "outputs": [
    {
     "name": "stdout",
     "output_type": "stream",
     "text": [
      "Average Salary of each Job Title\n",
      "Data Scientists: $ 156107.41216991964\n",
      "Data Science Managers: $ 195234.7888888889\n",
      "Data Engineers: $ 146441.31211812628\n",
      "Data Analysts: $ 109927.03646677472\n",
      "Business Intelligence Analysts: $ 130867.18421052632\n",
      "Applied Scientists: $ 190517.82083333333\n",
      "Data Lead: $ 181250.0\n"
     ]
    }
   ],
   "source": [
    "data_scientist = salaries[salaries['job_title'] == 'Data Scientist']\n",
    "data_science_manager = salaries[salaries['job_title'] == 'Data Science Manager']\n",
    "data_engineer = salaries[salaries['job_title'] == 'Data Engineer']\n",
    "data_analyst = salaries[salaries['job_title'] == 'Data Analyst']\n",
    "business_analyst = salaries[salaries['job_title'] == 'Business Intelligence Analyst']\n",
    "applied_scientist = salaries[salaries['job_title'] == 'Applied Scientist']\n",
    "data_lead = salaries[salaries['job_title'] == 'Data Lead']\n",
    "\n",
    "data_scientist_salary = data_scientist['salary_in_usd'].mean()\n",
    "data_science_manager_salary = data_science_manager['salary_in_usd'].mean()\n",
    "data_engineer_salary = data_engineer['salary_in_usd'].mean()\n",
    "data_analyst_salary = data_analyst['salary_in_usd'].mean()\n",
    "business_analyst_salary = business_analyst['salary_in_usd'].mean()\n",
    "applied_scientist_salary = applied_scientist['salary_in_usd'].mean()\n",
    "data_lead_salary = data_lead['salary_in_usd'].mean()\n",
    "\n",
    "print(\"Average Salary of each Job Title\")\n",
    "print('Data Scientists: $', data_scientist_salary)\n",
    "print('Data Science Managers: $', data_science_manager_salary)\n",
    "print('Data Engineers: $', data_engineer_salary)\n",
    "print('Data Analysts: $', data_analyst_salary)\n",
    "print('Business Intelligence Analysts: $', business_analyst_salary)\n",
    "print('Applied Scientists: $', applied_scientist_salary)\n",
    "print('Data Lead: $', data_lead_salary)"
   ],
   "metadata": {
    "collapsed": false,
    "ExecuteTime": {
     "end_time": "2023-11-04T08:32:12.450260372Z",
     "start_time": "2023-11-04T08:32:12.367536290Z"
    }
   },
   "id": "4c6bff54942728be"
  }
 ],
 "metadata": {
  "kernelspec": {
   "display_name": "Python 3",
   "language": "python",
   "name": "python3"
  },
  "language_info": {
   "codemirror_mode": {
    "name": "ipython",
    "version": 2
   },
   "file_extension": ".py",
   "mimetype": "text/x-python",
   "name": "python",
   "nbconvert_exporter": "python",
   "pygments_lexer": "ipython2",
   "version": "2.7.6"
  }
 },
 "nbformat": 4,
 "nbformat_minor": 5
}
