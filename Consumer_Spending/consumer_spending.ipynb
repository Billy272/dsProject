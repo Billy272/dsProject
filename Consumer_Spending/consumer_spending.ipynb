{
 "cells": [
  {
   "cell_type": "markdown",
   "id": "6ad48292",
   "metadata": {},
   "source": [
    "**Documenting Consumer Spendings**\n",
    "\n",
    "Consumer spendings will be determined by the csv file, Percent_Change_in_Consumer_Spending.csv. First we will show the \n",
    "top part of the data to confirm with what part we be using."
   ]
  },
  {
   "cell_type": "code",
   "execution_count": 2,
   "id": "620f1a00",
   "metadata": {
    "ExecuteTime": {
     "end_time": "2023-11-11T07:39:39.682218600Z",
     "start_time": "2023-11-11T07:39:39.202089052Z"
    }
   },
   "outputs": [
    {
     "data": {
      "text/plain": "   State FIPS code        Date  All merchant category codes spending  \\\n0              900  01/13/2020                               -1.7600   \n1             2500  01/13/2020                               -0.2200   \n2             3400  01/13/2020                               -0.5600   \n3             3600  01/13/2020                               -0.3730   \n4             4400  01/13/2020                               -1.8500   \n5              900  01/14/2020                                0.6330   \n6             2500  01/14/2020                                1.2400   \n7             3400  01/14/2020                                0.8900   \n8             3600  01/14/2020                                0.4270   \n9             4400  01/14/2020                                0.0824   \n\n   Accommodation and food service (ACF) spending  \\\n0                                          -5.43   \n1                                          -2.47   \n2                                          -3.86   \n3                                          -3.64   \n4                                         -15.00   \n5                                          -2.73   \n6                                          -2.36   \n7                                          -3.53   \n8                                          -2.34   \n9                                         -12.00   \n\n   Arts, entertainment, and recreation (AER)  spending  \\\n0                                             -13.80     \n1                                             -14.00     \n2                                             -11.60     \n3                                             -13.90     \n4                                             -19.10     \n5                                              -8.08     \n6                                             -10.10     \n7                                              -9.32     \n8                                             -10.30     \n9                                             -30.70     \n\n   General merchandise stores (GEN) and apparel and accessories (AAP) spending  \\\n0                                             -5.220                             \n1                                             -2.310                             \n2                                              0.655                             \n3                                             -1.460                             \n4                                             -5.960                             \n5                                             -2.510                             \n6                                             -0.673                             \n7                                              0.167                             \n8                                             -0.243                             \n9                                             -6.850                             \n\n   Grocery and food store (GRF)  spending  \\\n0                                  -2.760   \n1                                   0.309   \n2                                  -0.623   \n3                                  -0.884   \n4                                  -0.105   \n5                                   0.725   \n6                                   3.820   \n7                                   0.368   \n8                                   0.745   \n9                                   4.160   \n\n   Health care and social assistance (HCS) spending   \\\n0                                              0.890   \n1                                              3.510   \n2                                              4.770   \n3                                              7.910   \n4                                              1.230   \n5                                              0.307   \n6                                              4.860   \n7                                              3.310   \n8                                             11.000   \n9                                             -2.640   \n\n   Transportation and warehousing (TWS)  spending  \\\n0                                           0.466   \n1                                          -1.920   \n2                                           1.230   \n3                                          -0.107   \n4                                         -31.200   \n5                                           5.690   \n6                                          -0.332   \n7                                           3.220   \n8                                          -1.980   \n9                                         -25.300   \n\n   Retail spending, including grocery  (AAP, CEC, GEN, GRF, HIC, ETC, SGH)   \\\n0                                             -3.240                          \n1                                              0.300                          \n2                                              0.227                          \n3                                             -0.548                          \n4                                             -4.510                          \n5                                             -0.212                          \n6                                              2.010                          \n7                                              0.340                          \n8                                              0.403                          \n9                                             -2.740                          \n\n   Retail spending, excluding grocery ((AAP, CEC, GEN, HIC, ETC, SGH)   \n0                                            -3.6500                    \n1                                             0.2080                    \n2                                             1.0900                    \n3                                            -0.2560                    \n4                                            -9.5200                    \n5                                            -0.9990                    \n6                                            -0.2830                    \n7                                             0.3530                    \n8                                            -0.0115                    \n9                                           -10.6000                    ",
      "text/html": "<div>\n<style scoped>\n    .dataframe tbody tr th:only-of-type {\n        vertical-align: middle;\n    }\n\n    .dataframe tbody tr th {\n        vertical-align: top;\n    }\n\n    .dataframe thead th {\n        text-align: right;\n    }\n</style>\n<table border=\"1\" class=\"dataframe\">\n  <thead>\n    <tr style=\"text-align: right;\">\n      <th></th>\n      <th>State FIPS code</th>\n      <th>Date</th>\n      <th>All merchant category codes spending</th>\n      <th>Accommodation and food service (ACF) spending</th>\n      <th>Arts, entertainment, and recreation (AER)  spending</th>\n      <th>General merchandise stores (GEN) and apparel and accessories (AAP) spending</th>\n      <th>Grocery and food store (GRF)  spending</th>\n      <th>Health care and social assistance (HCS) spending</th>\n      <th>Transportation and warehousing (TWS)  spending</th>\n      <th>Retail spending, including grocery  (AAP, CEC, GEN, GRF, HIC, ETC, SGH)</th>\n      <th>Retail spending, excluding grocery ((AAP, CEC, GEN, HIC, ETC, SGH)</th>\n    </tr>\n  </thead>\n  <tbody>\n    <tr>\n      <th>0</th>\n      <td>900</td>\n      <td>01/13/2020</td>\n      <td>-1.7600</td>\n      <td>-5.43</td>\n      <td>-13.80</td>\n      <td>-5.220</td>\n      <td>-2.760</td>\n      <td>0.890</td>\n      <td>0.466</td>\n      <td>-3.240</td>\n      <td>-3.6500</td>\n    </tr>\n    <tr>\n      <th>1</th>\n      <td>2500</td>\n      <td>01/13/2020</td>\n      <td>-0.2200</td>\n      <td>-2.47</td>\n      <td>-14.00</td>\n      <td>-2.310</td>\n      <td>0.309</td>\n      <td>3.510</td>\n      <td>-1.920</td>\n      <td>0.300</td>\n      <td>0.2080</td>\n    </tr>\n    <tr>\n      <th>2</th>\n      <td>3400</td>\n      <td>01/13/2020</td>\n      <td>-0.5600</td>\n      <td>-3.86</td>\n      <td>-11.60</td>\n      <td>0.655</td>\n      <td>-0.623</td>\n      <td>4.770</td>\n      <td>1.230</td>\n      <td>0.227</td>\n      <td>1.0900</td>\n    </tr>\n    <tr>\n      <th>3</th>\n      <td>3600</td>\n      <td>01/13/2020</td>\n      <td>-0.3730</td>\n      <td>-3.64</td>\n      <td>-13.90</td>\n      <td>-1.460</td>\n      <td>-0.884</td>\n      <td>7.910</td>\n      <td>-0.107</td>\n      <td>-0.548</td>\n      <td>-0.2560</td>\n    </tr>\n    <tr>\n      <th>4</th>\n      <td>4400</td>\n      <td>01/13/2020</td>\n      <td>-1.8500</td>\n      <td>-15.00</td>\n      <td>-19.10</td>\n      <td>-5.960</td>\n      <td>-0.105</td>\n      <td>1.230</td>\n      <td>-31.200</td>\n      <td>-4.510</td>\n      <td>-9.5200</td>\n    </tr>\n    <tr>\n      <th>5</th>\n      <td>900</td>\n      <td>01/14/2020</td>\n      <td>0.6330</td>\n      <td>-2.73</td>\n      <td>-8.08</td>\n      <td>-2.510</td>\n      <td>0.725</td>\n      <td>0.307</td>\n      <td>5.690</td>\n      <td>-0.212</td>\n      <td>-0.9990</td>\n    </tr>\n    <tr>\n      <th>6</th>\n      <td>2500</td>\n      <td>01/14/2020</td>\n      <td>1.2400</td>\n      <td>-2.36</td>\n      <td>-10.10</td>\n      <td>-0.673</td>\n      <td>3.820</td>\n      <td>4.860</td>\n      <td>-0.332</td>\n      <td>2.010</td>\n      <td>-0.2830</td>\n    </tr>\n    <tr>\n      <th>7</th>\n      <td>3400</td>\n      <td>01/14/2020</td>\n      <td>0.8900</td>\n      <td>-3.53</td>\n      <td>-9.32</td>\n      <td>0.167</td>\n      <td>0.368</td>\n      <td>3.310</td>\n      <td>3.220</td>\n      <td>0.340</td>\n      <td>0.3530</td>\n    </tr>\n    <tr>\n      <th>8</th>\n      <td>3600</td>\n      <td>01/14/2020</td>\n      <td>0.4270</td>\n      <td>-2.34</td>\n      <td>-10.30</td>\n      <td>-0.243</td>\n      <td>0.745</td>\n      <td>11.000</td>\n      <td>-1.980</td>\n      <td>0.403</td>\n      <td>-0.0115</td>\n    </tr>\n    <tr>\n      <th>9</th>\n      <td>4400</td>\n      <td>01/14/2020</td>\n      <td>0.0824</td>\n      <td>-12.00</td>\n      <td>-30.70</td>\n      <td>-6.850</td>\n      <td>4.160</td>\n      <td>-2.640</td>\n      <td>-25.300</td>\n      <td>-2.740</td>\n      <td>-10.6000</td>\n    </tr>\n  </tbody>\n</table>\n</div>"
     },
     "execution_count": 2,
     "metadata": {},
     "output_type": "execute_result"
    }
   ],
   "source": [
    "import pandas as pd\n",
    "\n",
    "consumer_spending = pd.read_csv('Percent_Change_in_Consumer_Spending.csv')\n",
    "\n",
    "consumer_spending.head(10)"
   ]
  }
 ],
 "metadata": {
  "kernelspec": {
   "display_name": "Python 3",
   "language": "python",
   "name": "python3"
  },
  "language_info": {
   "codemirror_mode": {
    "name": "ipython",
    "version": 2
   },
   "file_extension": ".py",
   "mimetype": "text/x-python",
   "name": "python",
   "nbconvert_exporter": "python",
   "pygments_lexer": "ipython2",
   "version": "3.11.4"
  }
 },
 "nbformat": 4,
 "nbformat_minor": 5
}
