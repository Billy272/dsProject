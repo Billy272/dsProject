{
 "cells": [
  {
   "cell_type": "markdown",
   "source": [
    "**World's Air Quality and Water Pollution Analysis**\n",
    "\n",
    "We will import data from a csv file, cities_air_quality_water_pollution\n",
    ".18-10-2021 (1).csv, and analyze the data to find the most polluted cities\n",
    "in the world. Also, we will find the least polluted cities in the world."
   ],
   "metadata": {
    "collapsed": false
   },
   "id": "d0450eccd1ce208"
  },
  {
   "cell_type": "code",
   "execution_count": 1,
   "id": "initial_id",
   "metadata": {
    "collapsed": true,
    "ExecuteTime": {
     "end_time": "2023-11-07T07:55:04.849228075Z",
     "start_time": "2023-11-07T07:55:04.706627279Z"
    }
   },
   "outputs": [
    {
     "data": {
      "text/plain": "               City                 \"Region\"                    \"Country\"  \\\n0     New York City               \"New York\"   \"United States of America\"   \n1  Washington, D.C.   \"District of Columbia\"   \"United States of America\"   \n2     San Francisco             \"California\"   \"United States of America\"   \n3            Berlin                       \"\"                    \"Germany\"   \n4       Los Angeles             \"California\"   \"United States of America\"   \n5              Bern         \"Canton of Bern\"                \"Switzerland\"   \n6            Geneva       \"Canton of Geneva\"                \"Switzerland\"   \n7            Zurich       \"Canton of Zurich\"                \"Switzerland\"   \n8             Basel                       \"\"                \"Switzerland\"   \n9            London                \"England\"             \"United Kingdom\"   \n\n    \"AirQuality\"   \"WaterPollution\"  \n0      46.816038          49.504950  \n1      66.129032          49.107143  \n2      60.514019          43.000000  \n3      62.364130          28.612717  \n4      36.621622          61.299435  \n5      94.318182          12.500000  \n6      71.538462          17.372881  \n7      83.809524          10.714286  \n8      81.666667          26.923077  \n9      37.042254          40.716374  ",
      "text/html": "<div>\n<style scoped>\n    .dataframe tbody tr th:only-of-type {\n        vertical-align: middle;\n    }\n\n    .dataframe tbody tr th {\n        vertical-align: top;\n    }\n\n    .dataframe thead th {\n        text-align: right;\n    }\n</style>\n<table border=\"1\" class=\"dataframe\">\n  <thead>\n    <tr style=\"text-align: right;\">\n      <th></th>\n      <th>City</th>\n      <th>\"Region\"</th>\n      <th>\"Country\"</th>\n      <th>\"AirQuality\"</th>\n      <th>\"WaterPollution\"</th>\n    </tr>\n  </thead>\n  <tbody>\n    <tr>\n      <th>0</th>\n      <td>New York City</td>\n      <td>\"New York\"</td>\n      <td>\"United States of America\"</td>\n      <td>46.816038</td>\n      <td>49.504950</td>\n    </tr>\n    <tr>\n      <th>1</th>\n      <td>Washington, D.C.</td>\n      <td>\"District of Columbia\"</td>\n      <td>\"United States of America\"</td>\n      <td>66.129032</td>\n      <td>49.107143</td>\n    </tr>\n    <tr>\n      <th>2</th>\n      <td>San Francisco</td>\n      <td>\"California\"</td>\n      <td>\"United States of America\"</td>\n      <td>60.514019</td>\n      <td>43.000000</td>\n    </tr>\n    <tr>\n      <th>3</th>\n      <td>Berlin</td>\n      <td>\"\"</td>\n      <td>\"Germany\"</td>\n      <td>62.364130</td>\n      <td>28.612717</td>\n    </tr>\n    <tr>\n      <th>4</th>\n      <td>Los Angeles</td>\n      <td>\"California\"</td>\n      <td>\"United States of America\"</td>\n      <td>36.621622</td>\n      <td>61.299435</td>\n    </tr>\n    <tr>\n      <th>5</th>\n      <td>Bern</td>\n      <td>\"Canton of Bern\"</td>\n      <td>\"Switzerland\"</td>\n      <td>94.318182</td>\n      <td>12.500000</td>\n    </tr>\n    <tr>\n      <th>6</th>\n      <td>Geneva</td>\n      <td>\"Canton of Geneva\"</td>\n      <td>\"Switzerland\"</td>\n      <td>71.538462</td>\n      <td>17.372881</td>\n    </tr>\n    <tr>\n      <th>7</th>\n      <td>Zurich</td>\n      <td>\"Canton of Zurich\"</td>\n      <td>\"Switzerland\"</td>\n      <td>83.809524</td>\n      <td>10.714286</td>\n    </tr>\n    <tr>\n      <th>8</th>\n      <td>Basel</td>\n      <td>\"\"</td>\n      <td>\"Switzerland\"</td>\n      <td>81.666667</td>\n      <td>26.923077</td>\n    </tr>\n    <tr>\n      <th>9</th>\n      <td>London</td>\n      <td>\"England\"</td>\n      <td>\"United Kingdom\"</td>\n      <td>37.042254</td>\n      <td>40.716374</td>\n    </tr>\n  </tbody>\n</table>\n</div>"
     },
     "execution_count": 1,
     "metadata": {},
     "output_type": "execute_result"
    }
   ],
   "source": [
    "import pandas as pd\n",
    "\n",
    "pollution_data = pd.read_csv('cities_air_quality_water_pollution.18-10-2021 (1).csv')\n",
    "\n",
    "pollution_data.head(10)"
   ]
  }
 ],
 "metadata": {
  "kernelspec": {
   "display_name": "Python 3",
   "language": "python",
   "name": "python3"
  },
  "language_info": {
   "codemirror_mode": {
    "name": "ipython",
    "version": 2
   },
   "file_extension": ".py",
   "mimetype": "text/x-python",
   "name": "python",
   "nbconvert_exporter": "python",
   "pygments_lexer": "ipython2",
   "version": "2.7.6"
  }
 },
 "nbformat": 4,
 "nbformat_minor": 5
}
