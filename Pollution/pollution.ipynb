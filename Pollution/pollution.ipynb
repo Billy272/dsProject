{
 "cells": [
  {
   "cell_type": "markdown",
   "source": [
    "**World's Air Quality and Water Pollution Analysis**\n",
    "\n",
    "We will import data from a csv file, cities_air_quality_water_pollution\n",
    ".18-10-2021 (1).csv, and analyze the data to find the most polluted cities\n",
    "in the world. Also, we will find the least polluted cities in the world."
   ],
   "metadata": {
    "collapsed": false
   },
   "id": "d0450eccd1ce208"
  },
  {
   "cell_type": "code",
   "execution_count": 19,
   "id": "initial_id",
   "metadata": {
    "collapsed": true,
    "ExecuteTime": {
     "end_time": "2023-11-07T11:45:02.146503428Z",
     "start_time": "2023-11-07T11:45:01.779162636Z"
    }
   },
   "outputs": [
    {
     "data": {
      "text/plain": "               City                   Region                      Country  \\\n0     New York City               \"New York\"   \"United States of America\"   \n1  Washington, D.C.   \"District of Columbia\"   \"United States of America\"   \n2     San Francisco             \"California\"   \"United States of America\"   \n3            Berlin                       \"\"                    \"Germany\"   \n4       Los Angeles             \"California\"   \"United States of America\"   \n5              Bern         \"Canton of Bern\"                \"Switzerland\"   \n6            Geneva       \"Canton of Geneva\"                \"Switzerland\"   \n7            Zurich       \"Canton of Zurich\"                \"Switzerland\"   \n8             Basel                       \"\"                \"Switzerland\"   \n9            London                \"England\"             \"United Kingdom\"   \n\n    AirQuality   WaterPollution  \n0    46.816038        49.504950  \n1    66.129032        49.107143  \n2    60.514019        43.000000  \n3    62.364130        28.612717  \n4    36.621622        61.299435  \n5    94.318182        12.500000  \n6    71.538462        17.372881  \n7    83.809524        10.714286  \n8    81.666667        26.923077  \n9    37.042254        40.716374  ",
      "text/html": "<div>\n<style scoped>\n    .dataframe tbody tr th:only-of-type {\n        vertical-align: middle;\n    }\n\n    .dataframe tbody tr th {\n        vertical-align: top;\n    }\n\n    .dataframe thead th {\n        text-align: right;\n    }\n</style>\n<table border=\"1\" class=\"dataframe\">\n  <thead>\n    <tr style=\"text-align: right;\">\n      <th></th>\n      <th>City</th>\n      <th>Region</th>\n      <th>Country</th>\n      <th>AirQuality</th>\n      <th>WaterPollution</th>\n    </tr>\n  </thead>\n  <tbody>\n    <tr>\n      <th>0</th>\n      <td>New York City</td>\n      <td>\"New York\"</td>\n      <td>\"United States of America\"</td>\n      <td>46.816038</td>\n      <td>49.504950</td>\n    </tr>\n    <tr>\n      <th>1</th>\n      <td>Washington, D.C.</td>\n      <td>\"District of Columbia\"</td>\n      <td>\"United States of America\"</td>\n      <td>66.129032</td>\n      <td>49.107143</td>\n    </tr>\n    <tr>\n      <th>2</th>\n      <td>San Francisco</td>\n      <td>\"California\"</td>\n      <td>\"United States of America\"</td>\n      <td>60.514019</td>\n      <td>43.000000</td>\n    </tr>\n    <tr>\n      <th>3</th>\n      <td>Berlin</td>\n      <td>\"\"</td>\n      <td>\"Germany\"</td>\n      <td>62.364130</td>\n      <td>28.612717</td>\n    </tr>\n    <tr>\n      <th>4</th>\n      <td>Los Angeles</td>\n      <td>\"California\"</td>\n      <td>\"United States of America\"</td>\n      <td>36.621622</td>\n      <td>61.299435</td>\n    </tr>\n    <tr>\n      <th>5</th>\n      <td>Bern</td>\n      <td>\"Canton of Bern\"</td>\n      <td>\"Switzerland\"</td>\n      <td>94.318182</td>\n      <td>12.500000</td>\n    </tr>\n    <tr>\n      <th>6</th>\n      <td>Geneva</td>\n      <td>\"Canton of Geneva\"</td>\n      <td>\"Switzerland\"</td>\n      <td>71.538462</td>\n      <td>17.372881</td>\n    </tr>\n    <tr>\n      <th>7</th>\n      <td>Zurich</td>\n      <td>\"Canton of Zurich\"</td>\n      <td>\"Switzerland\"</td>\n      <td>83.809524</td>\n      <td>10.714286</td>\n    </tr>\n    <tr>\n      <th>8</th>\n      <td>Basel</td>\n      <td>\"\"</td>\n      <td>\"Switzerland\"</td>\n      <td>81.666667</td>\n      <td>26.923077</td>\n    </tr>\n    <tr>\n      <th>9</th>\n      <td>London</td>\n      <td>\"England\"</td>\n      <td>\"United Kingdom\"</td>\n      <td>37.042254</td>\n      <td>40.716374</td>\n    </tr>\n  </tbody>\n</table>\n</div>"
     },
     "execution_count": 19,
     "metadata": {},
     "output_type": "execute_result"
    }
   ],
   "source": [
    "import pandas as pd\n",
    "\n",
    "pollution_data = pd.read_csv('cities_air_quality_water_pollution.18-10-2021 (1).csv')\n",
    "\n",
    "pollution_data.head(10)"
   ]
  },
  {
   "cell_type": "markdown",
   "source": [
    "Checking for data types in the dataset."
   ],
   "metadata": {
    "collapsed": false
   },
   "id": "a68cb77d9168ba01"
  },
  {
   "cell_type": "code",
   "execution_count": 20,
   "outputs": [
    {
     "data": {
      "text/plain": "City                object\n Region             object\n Country            object\n AirQuality        float64\n WaterPollution    float64\ndtype: object"
     },
     "execution_count": 20,
     "metadata": {},
     "output_type": "execute_result"
    }
   ],
   "source": [
    "pollution_data.dtypes"
   ],
   "metadata": {
    "collapsed": false,
    "ExecuteTime": {
     "end_time": "2023-11-07T11:45:02.162664811Z",
     "start_time": "2023-11-07T11:45:02.100313066Z"
    }
   },
   "id": "ebb7fcaa907ca58"
  },
  {
   "cell_type": "markdown",
   "source": [
    "Checking for null values in the dataset."
   ],
   "metadata": {
    "collapsed": false
   },
   "id": "33d4d56ad942b37b"
  },
  {
   "cell_type": "code",
   "execution_count": 21,
   "outputs": [
    {
     "data": {
      "text/plain": "City               0\n Region            0\n Country           0\n AirQuality        0\n WaterPollution    0\ndtype: int64"
     },
     "execution_count": 21,
     "metadata": {},
     "output_type": "execute_result"
    }
   ],
   "source": [
    "pollution_data.isnull().sum()"
   ],
   "metadata": {
    "collapsed": false,
    "ExecuteTime": {
     "end_time": "2023-11-07T11:45:02.164451799Z",
     "start_time": "2023-11-07T11:45:02.100718228Z"
    }
   },
   "id": "3cd85b01abb6eac8"
  },
  {
   "cell_type": "markdown",
   "source": [
    "As per above output there are no null values in the dataset."
   ],
   "metadata": {
    "collapsed": false
   },
   "id": "4c28889d8d6c8ace"
  },
  {
   "cell_type": "markdown",
   "source": [
    "Check for duplicates."
   ],
   "metadata": {
    "collapsed": false
   },
   "id": "a2d34e86f4f8f9e1"
  },
  {
   "cell_type": "code",
   "execution_count": 22,
   "outputs": [
    {
     "data": {
      "text/plain": "0"
     },
     "execution_count": 22,
     "metadata": {},
     "output_type": "execute_result"
    }
   ],
   "source": [
    "pollution_data.duplicated().sum()"
   ],
   "metadata": {
    "collapsed": false,
    "ExecuteTime": {
     "end_time": "2023-11-07T11:45:02.197280074Z",
     "start_time": "2023-11-07T11:45:02.101005910Z"
    }
   },
   "id": "678e8a5959d73510"
  },
  {
   "cell_type": "markdown",
   "source": [
    "0 shows no duplicates in the data. So, we can proceed further."
   ],
   "metadata": {
    "collapsed": false
   },
   "id": "23324609265b6b2b"
  },
  {
   "cell_type": "markdown",
   "source": [
    "**Creating a scatterplot for Air Quality index**\n",
    "\n",
    "The Scatterplot will enable us to visualize the Air Quality Index of the\n",
    "cities in the dataset. It will be rainbow color form where the highest city \n",
    "will be in red color and the lowest city will be in violet color."
   ],
   "metadata": {
    "collapsed": false
   },
   "id": "4fc53050446f830f"
  },
  {
   "cell_type": "code",
   "execution_count": 29,
   "outputs": [
    {
     "ename": "ValueError",
     "evalue": "Could not interpret value `AirQuality` for `x`. An entry with this name does not appear in `data`.",
     "output_type": "error",
     "traceback": [
      "\u001B[0;31m---------------------------------------------------------------------------\u001B[0m",
      "\u001B[0;31mValueError\u001B[0m                                Traceback (most recent call last)",
      "Cell \u001B[0;32mIn[29], line 9\u001B[0m\n\u001B[1;32m      5\u001B[0m pollution_data \u001B[38;5;241m=\u001B[39m pd\u001B[38;5;241m.\u001B[39mread_csv(\u001B[38;5;124m'\u001B[39m\u001B[38;5;124mcities_air_quality_water_pollution.18-10-2021 (1).csv\u001B[39m\u001B[38;5;124m'\u001B[39m)\n\u001B[1;32m      7\u001B[0m plt\u001B[38;5;241m.\u001B[39mfigure(figsize\u001B[38;5;241m=\u001B[39m(\u001B[38;5;241m10\u001B[39m, \u001B[38;5;241m10\u001B[39m))\n\u001B[0;32m----> 9\u001B[0m \u001B[43msns\u001B[49m\u001B[38;5;241;43m.\u001B[39;49m\u001B[43mscatterplot\u001B[49m\u001B[43m(\u001B[49m\u001B[43mdata\u001B[49m\u001B[38;5;241;43m=\u001B[39;49m\u001B[43m \u001B[49m\u001B[43mpollution_data\u001B[49m\u001B[43m,\u001B[49m\u001B[43m \u001B[49m\u001B[43mx\u001B[49m\u001B[38;5;241;43m=\u001B[39;49m\u001B[38;5;124;43m'\u001B[39;49m\u001B[38;5;124;43mAirQuality\u001B[39;49m\u001B[38;5;124;43m'\u001B[39;49m\u001B[43m,\u001B[49m\u001B[43m \u001B[49m\u001B[43my\u001B[49m\u001B[38;5;241;43m=\u001B[39;49m\u001B[38;5;124;43m'\u001B[39;49m\u001B[38;5;124;43mCity\u001B[39;49m\u001B[38;5;124;43m'\u001B[39;49m\u001B[43m,\u001B[49m\u001B[43m \u001B[49m\u001B[43mhue\u001B[49m\u001B[38;5;241;43m=\u001B[39;49m\u001B[38;5;124;43m'\u001B[39;49m\u001B[38;5;124;43mAirQuality\u001B[39;49m\u001B[38;5;124;43m'\u001B[39;49m\u001B[43m,\u001B[49m\u001B[43m \u001B[49m\u001B[43mpalette\u001B[49m\u001B[38;5;241;43m=\u001B[39;49m\u001B[38;5;124;43m'\u001B[39;49m\u001B[38;5;124;43mrainbow\u001B[39;49m\u001B[38;5;124;43m'\u001B[39;49m\u001B[43m)\u001B[49m\n\u001B[1;32m     11\u001B[0m plt\u001B[38;5;241m.\u001B[39mtitle(\u001B[38;5;124m'\u001B[39m\u001B[38;5;124mAir Quality Index of Cities\u001B[39m\u001B[38;5;124m'\u001B[39m, fontsize\u001B[38;5;241m=\u001B[39m\u001B[38;5;241m20\u001B[39m)\n\u001B[1;32m     12\u001B[0m plt\u001B[38;5;241m.\u001B[39mxlabel(\u001B[38;5;124m'\u001B[39m\u001B[38;5;124mAir Quality Index\u001B[39m\u001B[38;5;124m'\u001B[39m, fontsize\u001B[38;5;241m=\u001B[39m\u001B[38;5;241m20\u001B[39m)\n",
      "File \u001B[0;32m~/Documents/lib/python3.11/site-packages/seaborn/relational.py:603\u001B[0m, in \u001B[0;36mscatterplot\u001B[0;34m(data, x, y, hue, size, style, palette, hue_order, hue_norm, sizes, size_order, size_norm, markers, style_order, legend, ax, **kwargs)\u001B[0m\n\u001B[1;32m    594\u001B[0m \u001B[38;5;28;01mdef\u001B[39;00m \u001B[38;5;21mscatterplot\u001B[39m(\n\u001B[1;32m    595\u001B[0m     data\u001B[38;5;241m=\u001B[39m\u001B[38;5;28;01mNone\u001B[39;00m, \u001B[38;5;241m*\u001B[39m,\n\u001B[1;32m    596\u001B[0m     x\u001B[38;5;241m=\u001B[39m\u001B[38;5;28;01mNone\u001B[39;00m, y\u001B[38;5;241m=\u001B[39m\u001B[38;5;28;01mNone\u001B[39;00m, hue\u001B[38;5;241m=\u001B[39m\u001B[38;5;28;01mNone\u001B[39;00m, size\u001B[38;5;241m=\u001B[39m\u001B[38;5;28;01mNone\u001B[39;00m, style\u001B[38;5;241m=\u001B[39m\u001B[38;5;28;01mNone\u001B[39;00m,\n\u001B[0;32m   (...)\u001B[0m\n\u001B[1;32m    600\u001B[0m     \u001B[38;5;241m*\u001B[39m\u001B[38;5;241m*\u001B[39mkwargs\n\u001B[1;32m    601\u001B[0m ):\n\u001B[0;32m--> 603\u001B[0m     p \u001B[38;5;241m=\u001B[39m \u001B[43m_ScatterPlotter\u001B[49m\u001B[43m(\u001B[49m\n\u001B[1;32m    604\u001B[0m \u001B[43m        \u001B[49m\u001B[43mdata\u001B[49m\u001B[38;5;241;43m=\u001B[39;49m\u001B[43mdata\u001B[49m\u001B[43m,\u001B[49m\n\u001B[1;32m    605\u001B[0m \u001B[43m        \u001B[49m\u001B[43mvariables\u001B[49m\u001B[38;5;241;43m=\u001B[39;49m\u001B[38;5;28;43mdict\u001B[39;49m\u001B[43m(\u001B[49m\u001B[43mx\u001B[49m\u001B[38;5;241;43m=\u001B[39;49m\u001B[43mx\u001B[49m\u001B[43m,\u001B[49m\u001B[43m \u001B[49m\u001B[43my\u001B[49m\u001B[38;5;241;43m=\u001B[39;49m\u001B[43my\u001B[49m\u001B[43m,\u001B[49m\u001B[43m \u001B[49m\u001B[43mhue\u001B[49m\u001B[38;5;241;43m=\u001B[39;49m\u001B[43mhue\u001B[49m\u001B[43m,\u001B[49m\u001B[43m \u001B[49m\u001B[43msize\u001B[49m\u001B[38;5;241;43m=\u001B[39;49m\u001B[43msize\u001B[49m\u001B[43m,\u001B[49m\u001B[43m \u001B[49m\u001B[43mstyle\u001B[49m\u001B[38;5;241;43m=\u001B[39;49m\u001B[43mstyle\u001B[49m\u001B[43m)\u001B[49m\u001B[43m,\u001B[49m\n\u001B[1;32m    606\u001B[0m \u001B[43m        \u001B[49m\u001B[43mlegend\u001B[49m\u001B[38;5;241;43m=\u001B[39;49m\u001B[43mlegend\u001B[49m\n\u001B[1;32m    607\u001B[0m \u001B[43m    \u001B[49m\u001B[43m)\u001B[49m\n\u001B[1;32m    609\u001B[0m     p\u001B[38;5;241m.\u001B[39mmap_hue(palette\u001B[38;5;241m=\u001B[39mpalette, order\u001B[38;5;241m=\u001B[39mhue_order, norm\u001B[38;5;241m=\u001B[39mhue_norm)\n\u001B[1;32m    610\u001B[0m     p\u001B[38;5;241m.\u001B[39mmap_size(sizes\u001B[38;5;241m=\u001B[39msizes, order\u001B[38;5;241m=\u001B[39msize_order, norm\u001B[38;5;241m=\u001B[39msize_norm)\n",
      "File \u001B[0;32m~/Documents/lib/python3.11/site-packages/seaborn/relational.py:390\u001B[0m, in \u001B[0;36m_ScatterPlotter.__init__\u001B[0;34m(self, data, variables, legend)\u001B[0m\n\u001B[1;32m    381\u001B[0m \u001B[38;5;28;01mdef\u001B[39;00m \u001B[38;5;21m__init__\u001B[39m(\u001B[38;5;28mself\u001B[39m, \u001B[38;5;241m*\u001B[39m, data\u001B[38;5;241m=\u001B[39m\u001B[38;5;28;01mNone\u001B[39;00m, variables\u001B[38;5;241m=\u001B[39m{}, legend\u001B[38;5;241m=\u001B[39m\u001B[38;5;28;01mNone\u001B[39;00m):\n\u001B[1;32m    382\u001B[0m \n\u001B[1;32m    383\u001B[0m     \u001B[38;5;66;03m# TODO this is messy, we want the mapping to be agnostic about\u001B[39;00m\n\u001B[1;32m    384\u001B[0m     \u001B[38;5;66;03m# the kind of plot to draw, but for the time being we need to set\u001B[39;00m\n\u001B[1;32m    385\u001B[0m     \u001B[38;5;66;03m# this information so the SizeMapping can use it\u001B[39;00m\n\u001B[1;32m    386\u001B[0m     \u001B[38;5;28mself\u001B[39m\u001B[38;5;241m.\u001B[39m_default_size_range \u001B[38;5;241m=\u001B[39m (\n\u001B[1;32m    387\u001B[0m         np\u001B[38;5;241m.\u001B[39mr_[\u001B[38;5;241m.5\u001B[39m, \u001B[38;5;241m2\u001B[39m] \u001B[38;5;241m*\u001B[39m np\u001B[38;5;241m.\u001B[39msquare(mpl\u001B[38;5;241m.\u001B[39mrcParams[\u001B[38;5;124m\"\u001B[39m\u001B[38;5;124mlines.markersize\u001B[39m\u001B[38;5;124m\"\u001B[39m])\n\u001B[1;32m    388\u001B[0m     )\n\u001B[0;32m--> 390\u001B[0m     \u001B[38;5;28;43msuper\u001B[39;49m\u001B[43m(\u001B[49m\u001B[43m)\u001B[49m\u001B[38;5;241;43m.\u001B[39;49m\u001B[38;5;21;43m__init__\u001B[39;49m\u001B[43m(\u001B[49m\u001B[43mdata\u001B[49m\u001B[38;5;241;43m=\u001B[39;49m\u001B[43mdata\u001B[49m\u001B[43m,\u001B[49m\u001B[43m \u001B[49m\u001B[43mvariables\u001B[49m\u001B[38;5;241;43m=\u001B[39;49m\u001B[43mvariables\u001B[49m\u001B[43m)\u001B[49m\n\u001B[1;32m    392\u001B[0m     \u001B[38;5;28mself\u001B[39m\u001B[38;5;241m.\u001B[39mlegend \u001B[38;5;241m=\u001B[39m legend\n",
      "File \u001B[0;32m~/Documents/lib/python3.11/site-packages/seaborn/_base.py:634\u001B[0m, in \u001B[0;36mVectorPlotter.__init__\u001B[0;34m(self, data, variables)\u001B[0m\n\u001B[1;32m    629\u001B[0m \u001B[38;5;66;03m# var_ordered is relevant only for categorical axis variables, and may\u001B[39;00m\n\u001B[1;32m    630\u001B[0m \u001B[38;5;66;03m# be better handled by an internal axis information object that tracks\u001B[39;00m\n\u001B[1;32m    631\u001B[0m \u001B[38;5;66;03m# such information and is set up by the scale_* methods. The analogous\u001B[39;00m\n\u001B[1;32m    632\u001B[0m \u001B[38;5;66;03m# information for numeric axes would be information about log scales.\u001B[39;00m\n\u001B[1;32m    633\u001B[0m \u001B[38;5;28mself\u001B[39m\u001B[38;5;241m.\u001B[39m_var_ordered \u001B[38;5;241m=\u001B[39m {\u001B[38;5;124m\"\u001B[39m\u001B[38;5;124mx\u001B[39m\u001B[38;5;124m\"\u001B[39m: \u001B[38;5;28;01mFalse\u001B[39;00m, \u001B[38;5;124m\"\u001B[39m\u001B[38;5;124my\u001B[39m\u001B[38;5;124m\"\u001B[39m: \u001B[38;5;28;01mFalse\u001B[39;00m}  \u001B[38;5;66;03m# alt., used DefaultDict\u001B[39;00m\n\u001B[0;32m--> 634\u001B[0m \u001B[38;5;28;43mself\u001B[39;49m\u001B[38;5;241;43m.\u001B[39;49m\u001B[43massign_variables\u001B[49m\u001B[43m(\u001B[49m\u001B[43mdata\u001B[49m\u001B[43m,\u001B[49m\u001B[43m \u001B[49m\u001B[43mvariables\u001B[49m\u001B[43m)\u001B[49m\n\u001B[1;32m    636\u001B[0m \u001B[38;5;66;03m# TODO Lots of tests assume that these are called to initialize the\u001B[39;00m\n\u001B[1;32m    637\u001B[0m \u001B[38;5;66;03m# mappings to default values on class initialization. I'd prefer to\u001B[39;00m\n\u001B[1;32m    638\u001B[0m \u001B[38;5;66;03m# move away from that and only have a mapping when explicitly called.\u001B[39;00m\n\u001B[1;32m    639\u001B[0m \u001B[38;5;28;01mfor\u001B[39;00m var \u001B[38;5;129;01min\u001B[39;00m [\u001B[38;5;124m\"\u001B[39m\u001B[38;5;124mhue\u001B[39m\u001B[38;5;124m\"\u001B[39m, \u001B[38;5;124m\"\u001B[39m\u001B[38;5;124msize\u001B[39m\u001B[38;5;124m\"\u001B[39m, \u001B[38;5;124m\"\u001B[39m\u001B[38;5;124mstyle\u001B[39m\u001B[38;5;124m\"\u001B[39m]:\n",
      "File \u001B[0;32m~/Documents/lib/python3.11/site-packages/seaborn/_base.py:679\u001B[0m, in \u001B[0;36mVectorPlotter.assign_variables\u001B[0;34m(self, data, variables)\u001B[0m\n\u001B[1;32m    674\u001B[0m \u001B[38;5;28;01melse\u001B[39;00m:\n\u001B[1;32m    675\u001B[0m     \u001B[38;5;66;03m# When dealing with long-form input, use the newer PlotData\u001B[39;00m\n\u001B[1;32m    676\u001B[0m     \u001B[38;5;66;03m# object (internal but introduced for the objects interface)\u001B[39;00m\n\u001B[1;32m    677\u001B[0m     \u001B[38;5;66;03m# to centralize / standardize data consumption logic.\u001B[39;00m\n\u001B[1;32m    678\u001B[0m     \u001B[38;5;28mself\u001B[39m\u001B[38;5;241m.\u001B[39minput_format \u001B[38;5;241m=\u001B[39m \u001B[38;5;124m\"\u001B[39m\u001B[38;5;124mlong\u001B[39m\u001B[38;5;124m\"\u001B[39m\n\u001B[0;32m--> 679\u001B[0m     plot_data \u001B[38;5;241m=\u001B[39m \u001B[43mPlotData\u001B[49m\u001B[43m(\u001B[49m\u001B[43mdata\u001B[49m\u001B[43m,\u001B[49m\u001B[43m \u001B[49m\u001B[43mvariables\u001B[49m\u001B[43m)\u001B[49m\n\u001B[1;32m    680\u001B[0m     frame \u001B[38;5;241m=\u001B[39m plot_data\u001B[38;5;241m.\u001B[39mframe\n\u001B[1;32m    681\u001B[0m     names \u001B[38;5;241m=\u001B[39m plot_data\u001B[38;5;241m.\u001B[39mnames\n",
      "File \u001B[0;32m~/Documents/lib/python3.11/site-packages/seaborn/_core/data.py:58\u001B[0m, in \u001B[0;36mPlotData.__init__\u001B[0;34m(self, data, variables)\u001B[0m\n\u001B[1;32m     51\u001B[0m \u001B[38;5;28;01mdef\u001B[39;00m \u001B[38;5;21m__init__\u001B[39m(\n\u001B[1;32m     52\u001B[0m     \u001B[38;5;28mself\u001B[39m,\n\u001B[1;32m     53\u001B[0m     data: DataSource,\n\u001B[1;32m     54\u001B[0m     variables: \u001B[38;5;28mdict\u001B[39m[\u001B[38;5;28mstr\u001B[39m, VariableSpec],\n\u001B[1;32m     55\u001B[0m ):\n\u001B[1;32m     57\u001B[0m     data \u001B[38;5;241m=\u001B[39m handle_data_source(data)\n\u001B[0;32m---> 58\u001B[0m     frame, names, ids \u001B[38;5;241m=\u001B[39m \u001B[38;5;28;43mself\u001B[39;49m\u001B[38;5;241;43m.\u001B[39;49m\u001B[43m_assign_variables\u001B[49m\u001B[43m(\u001B[49m\u001B[43mdata\u001B[49m\u001B[43m,\u001B[49m\u001B[43m \u001B[49m\u001B[43mvariables\u001B[49m\u001B[43m)\u001B[49m\n\u001B[1;32m     60\u001B[0m     \u001B[38;5;28mself\u001B[39m\u001B[38;5;241m.\u001B[39mframe \u001B[38;5;241m=\u001B[39m frame\n\u001B[1;32m     61\u001B[0m     \u001B[38;5;28mself\u001B[39m\u001B[38;5;241m.\u001B[39mnames \u001B[38;5;241m=\u001B[39m names\n",
      "File \u001B[0;32m~/Documents/lib/python3.11/site-packages/seaborn/_core/data.py:232\u001B[0m, in \u001B[0;36mPlotData._assign_variables\u001B[0;34m(self, data, variables)\u001B[0m\n\u001B[1;32m    230\u001B[0m     \u001B[38;5;28;01melse\u001B[39;00m:\n\u001B[1;32m    231\u001B[0m         err \u001B[38;5;241m+\u001B[39m\u001B[38;5;241m=\u001B[39m \u001B[38;5;124m\"\u001B[39m\u001B[38;5;124mAn entry with this name does not appear in `data`.\u001B[39m\u001B[38;5;124m\"\u001B[39m\n\u001B[0;32m--> 232\u001B[0m     \u001B[38;5;28;01mraise\u001B[39;00m \u001B[38;5;167;01mValueError\u001B[39;00m(err)\n\u001B[1;32m    234\u001B[0m \u001B[38;5;28;01melse\u001B[39;00m:\n\u001B[1;32m    235\u001B[0m \n\u001B[1;32m    236\u001B[0m     \u001B[38;5;66;03m# Otherwise, assume the value somehow represents data\u001B[39;00m\n\u001B[1;32m    237\u001B[0m \n\u001B[1;32m    238\u001B[0m     \u001B[38;5;66;03m# Ignore empty data structures\u001B[39;00m\n\u001B[1;32m    239\u001B[0m     \u001B[38;5;28;01mif\u001B[39;00m \u001B[38;5;28misinstance\u001B[39m(val, Sized) \u001B[38;5;129;01mand\u001B[39;00m \u001B[38;5;28mlen\u001B[39m(val) \u001B[38;5;241m==\u001B[39m \u001B[38;5;241m0\u001B[39m:\n",
      "\u001B[0;31mValueError\u001B[0m: Could not interpret value `AirQuality` for `x`. An entry with this name does not appear in `data`."
     ]
    },
    {
     "data": {
      "text/plain": "<Figure size 1000x1000 with 0 Axes>"
     },
     "metadata": {},
     "output_type": "display_data"
    }
   ],
   "source": [
    "import matplotlib.pyplot as plt\n",
    "import seaborn as sns\n",
    "import pandas as pd\n",
    "\n",
    "pollution_data = pd.read_csv('cities_air_quality_water_pollution.18-10-2021 (1).csv')\n",
    "\n",
    "plt.figure(figsize=(10, 10))\n",
    "\n",
    "sns.scatterplot(data= pollution_data, x='AirQuality', y='City',\n",
    "                hue='AirQuality', palette='rainbow')\n",
    "\n",
    "plt.title('Air Quality Index of Cities', fontsize=20)\n",
    "plt.xlabel('Air Quality Index', fontsize=20)\n",
    "plt.ylabel('Cities', fontsize=20)\n",
    "plt.xticks(fontsize=20)\n",
    "plt.yticks(fontsize=20)\n",
    "plt.show()"
   ],
   "metadata": {
    "collapsed": false,
    "ExecuteTime": {
     "end_time": "2023-11-07T11:56:00.849029566Z",
     "start_time": "2023-11-07T11:56:00.728282727Z"
    }
   },
   "id": "8a1c50553eb02954"
  }
 ],
 "metadata": {
  "kernelspec": {
   "display_name": "Python 3",
   "language": "python",
   "name": "python3"
  },
  "language_info": {
   "codemirror_mode": {
    "name": "ipython",
    "version": 2
   },
   "file_extension": ".py",
   "mimetype": "text/x-python",
   "name": "python",
   "nbconvert_exporter": "python",
   "pygments_lexer": "ipython2",
   "version": "2.7.6"
  }
 },
 "nbformat": 4,
 "nbformat_minor": 5
}
