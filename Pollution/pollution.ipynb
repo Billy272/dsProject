{
 "cells": [
  {
   "cell_type": "markdown",
   "source": [
    "**World's Air Quality and Water Pollution Analysis**\n",
    "\n",
    "We will import data from a csv file, cities_air_quality_water_pollution\n",
    ".18-10-2021 (1).csv, and analyze the data to find the most polluted cities\n",
    "in the world. Also, we will find the least polluted cities in the world."
   ],
   "metadata": {
    "collapsed": false
   },
   "id": "d0450eccd1ce208"
  },
  {
   "cell_type": "code",
   "execution_count": 38,
   "id": "initial_id",
   "metadata": {
    "collapsed": true,
    "ExecuteTime": {
     "end_time": "2023-11-07T12:41:26.560876897Z",
     "start_time": "2023-11-07T12:41:26.443402610Z"
    }
   },
   "outputs": [
    {
     "data": {
      "text/plain": "               City                 \"Region\"                    \"Country\"  \\\n0     New York City               \"New York\"   \"United States of America\"   \n1  Washington, D.C.   \"District of Columbia\"   \"United States of America\"   \n2     San Francisco             \"California\"   \"United States of America\"   \n3            Berlin                       \"\"                    \"Germany\"   \n4       Los Angeles             \"California\"   \"United States of America\"   \n5              Bern         \"Canton of Bern\"                \"Switzerland\"   \n6            Geneva       \"Canton of Geneva\"                \"Switzerland\"   \n7            Zurich       \"Canton of Zurich\"                \"Switzerland\"   \n8             Basel                       \"\"                \"Switzerland\"   \n9            London                \"England\"             \"United Kingdom\"   \n\n    \"AirQuality\"   \"WaterPollution\"  \n0      46.816038          49.504950  \n1      66.129032          49.107143  \n2      60.514019          43.000000  \n3      62.364130          28.612717  \n4      36.621622          61.299435  \n5      94.318182          12.500000  \n6      71.538462          17.372881  \n7      83.809524          10.714286  \n8      81.666667          26.923077  \n9      37.042254          40.716374  ",
      "text/html": "<div>\n<style scoped>\n    .dataframe tbody tr th:only-of-type {\n        vertical-align: middle;\n    }\n\n    .dataframe tbody tr th {\n        vertical-align: top;\n    }\n\n    .dataframe thead th {\n        text-align: right;\n    }\n</style>\n<table border=\"1\" class=\"dataframe\">\n  <thead>\n    <tr style=\"text-align: right;\">\n      <th></th>\n      <th>City</th>\n      <th>\"Region\"</th>\n      <th>\"Country\"</th>\n      <th>\"AirQuality\"</th>\n      <th>\"WaterPollution\"</th>\n    </tr>\n  </thead>\n  <tbody>\n    <tr>\n      <th>0</th>\n      <td>New York City</td>\n      <td>\"New York\"</td>\n      <td>\"United States of America\"</td>\n      <td>46.816038</td>\n      <td>49.504950</td>\n    </tr>\n    <tr>\n      <th>1</th>\n      <td>Washington, D.C.</td>\n      <td>\"District of Columbia\"</td>\n      <td>\"United States of America\"</td>\n      <td>66.129032</td>\n      <td>49.107143</td>\n    </tr>\n    <tr>\n      <th>2</th>\n      <td>San Francisco</td>\n      <td>\"California\"</td>\n      <td>\"United States of America\"</td>\n      <td>60.514019</td>\n      <td>43.000000</td>\n    </tr>\n    <tr>\n      <th>3</th>\n      <td>Berlin</td>\n      <td>\"\"</td>\n      <td>\"Germany\"</td>\n      <td>62.364130</td>\n      <td>28.612717</td>\n    </tr>\n    <tr>\n      <th>4</th>\n      <td>Los Angeles</td>\n      <td>\"California\"</td>\n      <td>\"United States of America\"</td>\n      <td>36.621622</td>\n      <td>61.299435</td>\n    </tr>\n    <tr>\n      <th>5</th>\n      <td>Bern</td>\n      <td>\"Canton of Bern\"</td>\n      <td>\"Switzerland\"</td>\n      <td>94.318182</td>\n      <td>12.500000</td>\n    </tr>\n    <tr>\n      <th>6</th>\n      <td>Geneva</td>\n      <td>\"Canton of Geneva\"</td>\n      <td>\"Switzerland\"</td>\n      <td>71.538462</td>\n      <td>17.372881</td>\n    </tr>\n    <tr>\n      <th>7</th>\n      <td>Zurich</td>\n      <td>\"Canton of Zurich\"</td>\n      <td>\"Switzerland\"</td>\n      <td>83.809524</td>\n      <td>10.714286</td>\n    </tr>\n    <tr>\n      <th>8</th>\n      <td>Basel</td>\n      <td>\"\"</td>\n      <td>\"Switzerland\"</td>\n      <td>81.666667</td>\n      <td>26.923077</td>\n    </tr>\n    <tr>\n      <th>9</th>\n      <td>London</td>\n      <td>\"England\"</td>\n      <td>\"United Kingdom\"</td>\n      <td>37.042254</td>\n      <td>40.716374</td>\n    </tr>\n  </tbody>\n</table>\n</div>"
     },
     "execution_count": 38,
     "metadata": {},
     "output_type": "execute_result"
    }
   ],
   "source": [
    "import pandas as pd\n",
    "\n",
    "pollution_data = pd.read_csv('air_water_pollution.csv')\n",
    "\n",
    "pollution_data.head(10)"
   ]
  },
  {
   "cell_type": "markdown",
   "source": [
    "Checking for data types in the dataset."
   ],
   "metadata": {
    "collapsed": false
   },
   "id": "a68cb77d9168ba01"
  },
  {
   "cell_type": "code",
   "execution_count": 39,
   "outputs": [
    {
     "data": {
      "text/plain": "City                  object\n \"Region\"             object\n \"Country\"            object\n \"AirQuality\"        float64\n \"WaterPollution\"    float64\ndtype: object"
     },
     "execution_count": 39,
     "metadata": {},
     "output_type": "execute_result"
    }
   ],
   "source": [
    "pollution_data.dtypes"
   ],
   "metadata": {
    "collapsed": false,
    "ExecuteTime": {
     "end_time": "2023-11-07T12:41:26.595632498Z",
     "start_time": "2023-11-07T12:41:26.479664710Z"
    }
   },
   "id": "ebb7fcaa907ca58"
  },
  {
   "cell_type": "markdown",
   "source": [
    "Checking for null values in the dataset."
   ],
   "metadata": {
    "collapsed": false
   },
   "id": "33d4d56ad942b37b"
  },
  {
   "cell_type": "code",
   "execution_count": 40,
   "outputs": [
    {
     "data": {
      "text/plain": "City                 0\n \"Region\"            0\n \"Country\"           0\n \"AirQuality\"        0\n \"WaterPollution\"    0\ndtype: int64"
     },
     "execution_count": 40,
     "metadata": {},
     "output_type": "execute_result"
    }
   ],
   "source": [
    "pollution_data.isnull().sum()"
   ],
   "metadata": {
    "collapsed": false,
    "ExecuteTime": {
     "end_time": "2023-11-07T12:41:26.683171938Z",
     "start_time": "2023-11-07T12:41:26.573027314Z"
    }
   },
   "id": "3cd85b01abb6eac8"
  },
  {
   "cell_type": "markdown",
   "source": [
    "As per above output there are no null values in the dataset."
   ],
   "metadata": {
    "collapsed": false
   },
   "id": "4c28889d8d6c8ace"
  },
  {
   "cell_type": "markdown",
   "source": [
    "Check for duplicates."
   ],
   "metadata": {
    "collapsed": false
   },
   "id": "a2d34e86f4f8f9e1"
  },
  {
   "cell_type": "code",
   "execution_count": 41,
   "outputs": [
    {
     "data": {
      "text/plain": "0"
     },
     "execution_count": 41,
     "metadata": {},
     "output_type": "execute_result"
    }
   ],
   "source": [
    "pollution_data.duplicated().sum()"
   ],
   "metadata": {
    "collapsed": false,
    "ExecuteTime": {
     "end_time": "2023-11-07T12:41:26.872912008Z",
     "start_time": "2023-11-07T12:41:26.609716496Z"
    }
   },
   "id": "678e8a5959d73510"
  },
  {
   "cell_type": "markdown",
   "source": [
    "0 shows no duplicates in the data. So, we can proceed further."
   ],
   "metadata": {
    "collapsed": false
   },
   "id": "23324609265b6b2b"
  },
  {
   "cell_type": "markdown",
   "source": [
    "**Creating a scatterplot for Air Quality index**\n",
    "\n",
    "The Scatterplot will enable us to visualize the Air Quality Index of the\n",
    "cities in the dataset. It will be rainbow color form where the highest city \n",
    "will be in red color and the lowest city will be in violet color."
   ],
   "metadata": {
    "collapsed": false
   },
   "id": "4fc53050446f830f"
  },
  {
   "cell_type": "code",
   "execution_count": null,
   "outputs": [],
   "source": [
    "import matplotlib.pyplot as plt\n",
    "import seaborn as sns\n",
    "\n",
    "plt.figure(figsize=(20, 20))\n",
    "\n",
    "sns.scatterplot(data = pollution_data, x=pollution_data[\" \\\"AirQuality\\\"\"],\n",
    "                y=\"City\", hue=pollution_data[\" \\\"AirQuality\\\"\"],\n",
    "                palette=\"rainbow\")\n",
    "plt.xlabel(\"Air Quality Index\")\n",
    "plt.ylabel(\"Cities\")\n",
    "plt.title(\"Air Quality Index of Cities\", fontsize=20, fontweight=\"bold\")\n",
    "plt.xticks(fontsize=15, fontweight=\"bold\")\n",
    "plt.yticks(fontsize=15, fontweight=\"bold\")\n",
    "\n",
    "plt.show()"
   ],
   "metadata": {
    "collapsed": false,
    "is_executing": true,
    "ExecuteTime": {
     "start_time": "2023-11-07T13:04:46.965158625Z"
    }
   },
   "id": "8a1c50553eb02954"
  },
  {
   "cell_type": "markdown",
   "source": [
    "This data is so huge hence not that visible especially the cities with\n",
    "highest and lowest Air Quality Index. So, we will create a barplot to\n",
    "visualize the data in a better way."
   ],
   "metadata": {
    "collapsed": false
   },
   "id": "bd16ae20b5ce7f36"
  },
  {
   "cell_type": "code",
   "execution_count": null,
   "outputs": [],
   "source": [
    "plt.figure(figsize=(20, 20))\n",
    "\n",
    "sns.barplot(data = pollution_data, x=pollution_data[\" \\\"AirQuality\\\"\"],\n",
    "                y=\"City\", palette=\"rainbow\")\n",
    "plt.xlabel(\"Air Quality Index\")\n",
    "plt.ylabel(\"Cities\")\n",
    "plt.title(\"Air Quality Index of Cities\", fontsize=20, fontweight=\"bold\")\n",
    "plt.xticks(fontsize=15, fontweight=\"bold\")\n",
    "plt.yticks(fontsize=15, fontweight=\"bold\")\n",
    "\n",
    "plt.show()"
   ],
   "metadata": {
    "collapsed": false,
    "is_executing": true,
    "ExecuteTime": {
     "start_time": "2023-11-07T13:03:47.629032084Z"
    }
   },
   "id": "6661eaf6bfc34840"
  }
 ],
 "metadata": {
  "kernelspec": {
   "display_name": "Python 3",
   "language": "python",
   "name": "python3"
  },
  "language_info": {
   "codemirror_mode": {
    "name": "ipython",
    "version": 2
   },
   "file_extension": ".py",
   "mimetype": "text/x-python",
   "name": "python",
   "nbconvert_exporter": "python",
   "pygments_lexer": "ipython2",
   "version": "2.7.6"
  }
 },
 "nbformat": 4,
 "nbformat_minor": 5
}
