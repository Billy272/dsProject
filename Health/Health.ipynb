{
 "cells": [
  {
   "cell_type": "markdown",
   "source": [
    "***Child Mortality Rate in Kenya***\n",
    "Under this project we will be looking at the child mortality rate in Kenya. We will be looking at the factors that affect the child mortality rate in Kenya. We will be looking at the following factors:\n",
    "1. The child mortality rate in Kenya\n",
    "2. The childbirth rate in Kenya\n",
    "3. Diseases that affect the child mortality rate in Kenya\n",
    "4. The child mortality rate in Kenya by county\n",
    "\n",
    "**Import of Data and form a dataframe**\n",
    "Using the UNICEF data to form the dataframe and make the whole project.\n",
    "Using the following libraries to make the project:\n",
    "1. Pandas\n",
    "2. Numpy\n",
    "3. Matplotlib\n",
    "4. Seaborn\n",
    "\n"
   ],
   "metadata": {
    "collapsed": false
   },
   "id": "ba8eaefd851dc7ff"
  },
  {
   "cell_type": "code",
   "execution_count": 2,
   "id": "initial_id",
   "metadata": {
    "collapsed": true,
    "ExecuteTime": {
     "end_time": "2023-10-25T17:15:36.105738066Z",
     "start_time": "2023-10-25T17:15:36.104850154Z"
    }
   },
   "outputs": [
    {
     "name": "stdout",
     "output_type": "stream",
     "text": [
      "                                              DATAFLOW  \\\n",
      "0    UNICEF:GLOBAL_DATAFLOW(1.0): Cross-sector indi...   \n",
      "1    UNICEF:GLOBAL_DATAFLOW(1.0): Cross-sector indi...   \n",
      "2    UNICEF:GLOBAL_DATAFLOW(1.0): Cross-sector indi...   \n",
      "3    UNICEF:GLOBAL_DATAFLOW(1.0): Cross-sector indi...   \n",
      "4    UNICEF:GLOBAL_DATAFLOW(1.0): Cross-sector indi...   \n",
      "..                                                 ...   \n",
      "151  UNICEF:GLOBAL_DATAFLOW(1.0): Cross-sector indi...   \n",
      "152  UNICEF:GLOBAL_DATAFLOW(1.0): Cross-sector indi...   \n",
      "153  UNICEF:GLOBAL_DATAFLOW(1.0): Cross-sector indi...   \n",
      "154  UNICEF:GLOBAL_DATAFLOW(1.0): Cross-sector indi...   \n",
      "155  UNICEF:GLOBAL_DATAFLOW(1.0): Cross-sector indi...   \n",
      "\n",
      "    REF_AREA:Geographic area                    INDICATOR:Indicator  \\\n",
      "0                 KEN: Kenya  CME_MRY0T4: Under-five mortality rate   \n",
      "1                 KEN: Kenya  CME_MRY0T4: Under-five mortality rate   \n",
      "2                 KEN: Kenya  CME_MRY0T4: Under-five mortality rate   \n",
      "3                 KEN: Kenya  CME_MRY0T4: Under-five mortality rate   \n",
      "4                 KEN: Kenya  CME_MRY0T4: Under-five mortality rate   \n",
      "..                       ...                                    ...   \n",
      "151               KEN: Kenya  CME_MRY0T4: Under-five mortality rate   \n",
      "152               KEN: Kenya  CME_MRY0T4: Under-five mortality rate   \n",
      "153               KEN: Kenya  CME_MRY0T4: Under-five mortality rate   \n",
      "154               KEN: Kenya  CME_MRY0T4: Under-five mortality rate   \n",
      "155               KEN: Kenya  CME_MRY0T4: Under-five mortality rate   \n",
      "\n",
      "       SEX:Sex  TIME_PERIOD:Time period  OBS_VALUE:Observation Value  \\\n",
      "0    F: Female                     1970                   143.382655   \n",
      "1    F: Female                     1971                   139.994098   \n",
      "2    F: Female                     1972                   136.478677   \n",
      "3    F: Female                     1973                   132.748553   \n",
      "4    F: Female                     1974                   128.841421   \n",
      "..         ...                      ...                          ...   \n",
      "151  _T: Total                     2017                    42.408243   \n",
      "152  _T: Total                     2018                    40.831833   \n",
      "153  _T: Total                     2019                    39.437915   \n",
      "154  _T: Total                     2020                    38.572625   \n",
      "155  _T: Total                     2021                    37.152622   \n",
      "\n",
      "     UNIT_MULTIPLIER:Unit multiplier  \\\n",
      "0                                NaN   \n",
      "1                                NaN   \n",
      "2                                NaN   \n",
      "3                                NaN   \n",
      "4                                NaN   \n",
      "..                               ...   \n",
      "151                              NaN   \n",
      "152                              NaN   \n",
      "153                              NaN   \n",
      "154                              NaN   \n",
      "155                              NaN   \n",
      "\n",
      "                   UNIT_MEASURE:Unit of measure OBS_STATUS:Observation Status  \\\n",
      "0    D_PER_1000_B: Deaths per 1,000 live births               A: Normal value   \n",
      "1    D_PER_1000_B: Deaths per 1,000 live births               A: Normal value   \n",
      "2    D_PER_1000_B: Deaths per 1,000 live births               A: Normal value   \n",
      "3    D_PER_1000_B: Deaths per 1,000 live births               A: Normal value   \n",
      "4    D_PER_1000_B: Deaths per 1,000 live births               A: Normal value   \n",
      "..                                          ...                           ...   \n",
      "151  D_PER_1000_B: Deaths per 1,000 live births               A: Normal value   \n",
      "152  D_PER_1000_B: Deaths per 1,000 live births               A: Normal value   \n",
      "153  D_PER_1000_B: Deaths per 1,000 live births               A: Normal value   \n",
      "154  D_PER_1000_B: Deaths per 1,000 live births               A: Normal value   \n",
      "155  D_PER_1000_B: Deaths per 1,000 live births               A: Normal value   \n",
      "\n",
      "     OBS_CONF:Observation confidentaility  ...  \\\n",
      "0                                     NaN  ...   \n",
      "1                                     NaN  ...   \n",
      "2                                     NaN  ...   \n",
      "3                                     NaN  ...   \n",
      "4                                     NaN  ...   \n",
      "..                                    ...  ...   \n",
      "151                                   NaN  ...   \n",
      "152                                   NaN  ...   \n",
      "153                                   NaN  ...   \n",
      "154                                   NaN  ...   \n",
      "155                                   NaN  ...   \n",
      "\n",
      "     WGTD_SAMPL_SIZE:Weighted Sample Size  OBS_FOOTNOTE:Observation footnote  \\\n",
      "0                                     NaN                                NaN   \n",
      "1                                     NaN                                NaN   \n",
      "2                                     NaN                                NaN   \n",
      "3                                     NaN                                NaN   \n",
      "4                                     NaN                                NaN   \n",
      "..                                    ...                                ...   \n",
      "151                                   NaN                                NaN   \n",
      "152                                   NaN                                NaN   \n",
      "153                                   NaN                                NaN   \n",
      "154                                   NaN                                NaN   \n",
      "155                                   NaN                                NaN   \n",
      "\n",
      "     SERIES_FOOTNOTE:Series footnote  DATA_SOURCE:Data Source  \\\n",
      "0                                NaN                  UN_IGME   \n",
      "1                                NaN                  UN_IGME   \n",
      "2                                NaN                  UN_IGME   \n",
      "3                                NaN                  UN_IGME   \n",
      "4                                NaN                  UN_IGME   \n",
      "..                               ...                      ...   \n",
      "151                              NaN                  UN_IGME   \n",
      "152                              NaN                  UN_IGME   \n",
      "153                              NaN                  UN_IGME   \n",
      "154                              NaN                  UN_IGME   \n",
      "155                              NaN                  UN_IGME   \n",
      "\n",
      "     SOURCE_LINK:Citation of or link to the data source CUSTODIAN:Custodian  \\\n",
      "0                                                  NaN                  NaN   \n",
      "1                                                  NaN                  NaN   \n",
      "2                                                  NaN                  NaN   \n",
      "3                                                  NaN                  NaN   \n",
      "4                                                  NaN                  NaN   \n",
      "..                                                 ...                  ...   \n",
      "151                                                NaN                  NaN   \n",
      "152                                                NaN                  NaN   \n",
      "153                                                NaN                  NaN   \n",
      "154                                                NaN                  NaN   \n",
      "155                                                NaN                  NaN   \n",
      "\n",
      "     TIME_PERIOD_METHOD:Time period activity related to when the data are collected  \\\n",
      "0                                                  NaN                                \n",
      "1                                                  NaN                                \n",
      "2                                                  NaN                                \n",
      "3                                                  NaN                                \n",
      "4                                                  NaN                                \n",
      "..                                                 ...                                \n",
      "151                                                NaN                                \n",
      "152                                                NaN                                \n",
      "153                                                NaN                                \n",
      "154                                                NaN                                \n",
      "155                                                NaN                                \n",
      "\n",
      "     REF_PERIOD:Reference Period  \\\n",
      "0                            NaN   \n",
      "1                            NaN   \n",
      "2                            NaN   \n",
      "3                            NaN   \n",
      "4                            NaN   \n",
      "..                           ...   \n",
      "151                          NaN   \n",
      "152                          NaN   \n",
      "153                          NaN   \n",
      "154                          NaN   \n",
      "155                          NaN   \n",
      "\n",
      "     COVERAGE_TIME:The period of time for which data are provided  \\\n",
      "0                                                  NaN              \n",
      "1                                                  NaN              \n",
      "2                                                  NaN              \n",
      "3                                                  NaN              \n",
      "4                                                  NaN              \n",
      "..                                                 ...              \n",
      "151                                                NaN              \n",
      "152                                                NaN              \n",
      "153                                                NaN              \n",
      "154                                                NaN              \n",
      "155                                                NaN              \n",
      "\n",
      "     AGE:Current age  \n",
      "0          _T: Total  \n",
      "1          _T: Total  \n",
      "2          _T: Total  \n",
      "3          _T: Total  \n",
      "4          _T: Total  \n",
      "..               ...  \n",
      "151        _T: Total  \n",
      "152        _T: Total  \n",
      "153        _T: Total  \n",
      "154        _T: Total  \n",
      "155        _T: Total  \n",
      "\n",
      "[156 rows x 22 columns]\n"
     ]
    }
   ],
   "source": [
    "import pandas as pd\n",
    "\n",
    "data = pd.read_csv('fusion_GLOBAL_DATAFLOW_UNICEF_1.0_KEN.CME_MRY0T4..csv')\n",
    "\n",
    "print(data)"
   ]
  },
  {
   "cell_type": "markdown",
   "source": [
    "**Missing Values**\n",
    "We will be looking at the missing values in the data and how to deal with them."
   ],
   "metadata": {
    "collapsed": false
   },
   "id": "6ceeb136482b6f6a"
  },
  {
   "cell_type": "code",
   "execution_count": 3,
   "outputs": [
    {
     "data": {
      "text/plain": "DATAFLOW                                                                            0\nREF_AREA:Geographic area                                                            0\nINDICATOR:Indicator                                                                 0\nSEX:Sex                                                                             0\nTIME_PERIOD:Time period                                                             0\nOBS_VALUE:Observation Value                                                         0\nUNIT_MULTIPLIER:Unit multiplier                                                   156\nUNIT_MEASURE:Unit of measure                                                        0\nOBS_STATUS:Observation Status                                                       0\nOBS_CONF:Observation confidentaility                                              156\nLOWER_BOUND:Lower Bound                                                             0\nUPPER_BOUND:Upper Bound                                                             0\nWGTD_SAMPL_SIZE:Weighted Sample Size                                              156\nOBS_FOOTNOTE:Observation footnote                                                 156\nSERIES_FOOTNOTE:Series footnote                                                   156\nDATA_SOURCE:Data Source                                                             0\nSOURCE_LINK:Citation of or link to the data source                                156\nCUSTODIAN:Custodian                                                               156\nTIME_PERIOD_METHOD:Time period activity related to when the data are collected    156\nREF_PERIOD:Reference Period                                                       156\nCOVERAGE_TIME:The period of time for which data are provided                      156\nAGE:Current age                                                                     0\ndtype: int64"
     },
     "execution_count": 3,
     "metadata": {},
     "output_type": "execute_result"
    }
   ],
   "source": [
    "data.isnull().sum()"
   ],
   "metadata": {
    "collapsed": false,
    "ExecuteTime": {
     "end_time": "2023-10-25T17:19:51.991680343Z",
     "start_time": "2023-10-25T17:19:51.712613837Z"
    }
   },
   "id": "32503188b30ea948"
  },
  {
   "cell_type": "markdown",
   "source": [
    "Removing the missing values"
   ],
   "metadata": {
    "collapsed": false
   },
   "id": "4b18928d64ba7b3b"
  },
  {
   "cell_type": "code",
   "execution_count": 9,
   "outputs": [
    {
     "data": {
      "text/plain": "DATAFLOW                                                                          0\nREF_AREA:Geographic area                                                          0\nINDICATOR:Indicator                                                               0\nSEX:Sex                                                                           0\nTIME_PERIOD:Time period                                                           0\nOBS_VALUE:Observation Value                                                       0\nUNIT_MULTIPLIER:Unit multiplier                                                   0\nUNIT_MEASURE:Unit of measure                                                      0\nOBS_STATUS:Observation Status                                                     0\nOBS_CONF:Observation confidentaility                                              0\nLOWER_BOUND:Lower Bound                                                           0\nUPPER_BOUND:Upper Bound                                                           0\nWGTD_SAMPL_SIZE:Weighted Sample Size                                              0\nOBS_FOOTNOTE:Observation footnote                                                 0\nSERIES_FOOTNOTE:Series footnote                                                   0\nDATA_SOURCE:Data Source                                                           0\nSOURCE_LINK:Citation of or link to the data source                                0\nCUSTODIAN:Custodian                                                               0\nTIME_PERIOD_METHOD:Time period activity related to when the data are collected    0\nREF_PERIOD:Reference Period                                                       0\nCOVERAGE_TIME:The period of time for which data are provided                      0\nAGE:Current age                                                                   0\ndtype: int64"
     },
     "execution_count": 9,
     "metadata": {},
     "output_type": "execute_result"
    }
   ],
   "source": [
    "data_clean = data.dropna(inplace=True)\n",
    "data.isnull().sum()"
   ],
   "metadata": {
    "collapsed": false,
    "ExecuteTime": {
     "end_time": "2023-10-25T17:27:20.525851265Z",
     "start_time": "2023-10-25T17:27:20.386071141Z"
    }
   },
   "id": "e35e625bc229d59e"
  },
  {
   "cell_type": "markdown",
   "source": [
    "**Data Visualization**\n",
    "We will be looking at the data visualization of the data.First we will be looking at the child mortality rate in Kenya. Where we will be looking at the child mortality rate in Kenya from 1990 to 2019. Visualizing the data using a line graph."
   ],
   "metadata": {
    "collapsed": false
   },
   "id": "ad6d6c15be8ac747"
  },
  {
   "cell_type": "code",
   "execution_count": 16,
   "outputs": [
    {
     "data": {
      "text/plain": "<Figure size 640x480 with 1 Axes>",
      "image/png": "[encoded data removed]"
     },
     "metadata": {},
     "output_type": "display_data"
    }
   ],
   "source": [
    "import matplotlib.pyplot as plt\n",
    "import seaborn as sns\n",
    "\n",
    "sns.set_style('white')\n",
    "plt.plot(data['TIME_PERIOD:Time period'],data['OBS_VALUE:Observation Value'])\n",
    "plt.title('Child Mortality Rate in Kenya from 1990 to 2019')\n",
    "plt.xlabel('Year')\n",
    "plt.ylabel('Child Mortality Rate')\n",
    "plt.show()"
   ],
   "metadata": {
    "collapsed": false,
    "ExecuteTime": {
     "end_time": "2023-10-25T17:31:57.550818913Z",
     "start_time": "2023-10-25T17:31:57.082456281Z"
    }
   },
   "id": "ce45dfcf5dcd23d8"
  }
 ],
 "metadata": {
  "kernelspec": {
   "display_name": "Python 3",
   "language": "python",
   "name": "python3"
  },
  "language_info": {
   "codemirror_mode": {
    "name": "ipython",
    "version": 2
   },
   "file_extension": ".py",
   "mimetype": "text/x-python",
   "name": "python",
   "nbconvert_exporter": "python",
   "pygments_lexer": "ipython2",
   "version": "2.7.6"
  }
 },
 "nbformat": 4,
 "nbformat_minor": 5
}
