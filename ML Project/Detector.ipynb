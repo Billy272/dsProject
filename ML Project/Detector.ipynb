{
 "cells": [
  {
   "cell_type": "markdown",
   "source": [
    "**Machine Learning Detector for Malware**\n",
    "\n",
    "*Signature Based Analysis*\n",
    "This is effective for known malware, but not for new malware.It is also not effective for polymorphic malware. It is fast and efficient.\n",
    "\n",
    "First, we will import the libraries we need for this project from ClaMP_Integrated-5184.csv. We will use the pandas library to read the csv file and the numpy library to convert the data into an array. We will only show a sample of the data. But working on the project will be done with the entire data."
   ],
   "metadata": {
    "collapsed": false
   },
   "id": "59d4625f59d31b03"
  },
  {
   "cell_type": "code",
   "execution_count": 7,
   "id": "initial_id",
   "metadata": {
    "collapsed": true,
    "ExecuteTime": {
     "end_time": "2023-10-28T06:05:38.254209926Z",
     "start_time": "2023-10-28T06:05:38.155146728Z"
    }
   },
   "outputs": [
    {
     "data": {
      "text/plain": "    e_cblp  e_cp  e_cparhdr  e_maxalloc  e_sp  e_lfanew  NumberOfSections  \\\n0      144     3          4       65535   184       256                 4   \n1      144     3          4       65535   184       184                 4   \n2      144     3          4       65535   184       272                 5   \n3      144     3          4       65535   184       184                 1   \n4      144     3          4       65535   184       224                 5   \n5       80     2          4       65535   184       256                 8   \n6      144     3          4       65535   184       272                 8   \n7      144     3          4       65535   184       256                 5   \n8      144     3          4       65535   184       240                 5   \n9      144     3          4       65535   184       224                 6   \n10     144     3          4       65535   184       248                 4   \n11     144     3          4       65535   184       128                 3   \n12     144     3          4       65535   184       200                 3   \n13     144     3          4       65535   184       272                 8   \n14     144     3          4       65535   184       128                 3   \n15     144     3          4       65535   184       240                 4   \n16     144     3          4       65535   184       224                 5   \n17     144     3          4       65535   184       248                 5   \n18     144     3          4       65535   184       224                 3   \n19     144     3          4       65535   184       200                 3   \n\n    CreationYear  FH_char0  FH_char1  ...  sus_sections  non_sus_sections  \\\n0              1         0         1  ...             1                 3   \n1              1         0         1  ...             1                 3   \n2              1         0         1  ...             1                 4   \n3              1         0         1  ...             0                 1   \n4              1         0         1  ...             1                 4   \n5              1         0         1  ...             4                 4   \n6              1         0         1  ...             4                 4   \n7              1         0         1  ...             1                 4   \n8              1         0         1  ...             1                 4   \n9              1         0         1  ...             1                 5   \n10             1         0         1  ...             1                 3   \n11             1         0         1  ...             1                 2   \n12             1         1         1  ...             0                 3   \n13             1         0         1  ...             3                 5   \n14             1         0         1  ...             1                 2   \n15             1         0         1  ...             1                 3   \n16             1         0         1  ...             1                 4   \n17             1         0         1  ...             1                 4   \n18             1         1         1  ...             0                 3   \n19             1         1         1  ...             0                 3   \n\n    packer             packer_type    E_text    E_data  filesize    E_file  \\\n0        0                NoPacker  6.603616  5.443362   1181520  6.627552   \n1        0                NoPacker  5.205926  2.123522      7680  5.318221   \n2        0                NoPacker  6.238000  3.380859     57872  6.507758   \n3        0                NoPacker  0.000000  0.000000     95616  4.575092   \n4        0                NoPacker  6.355626  0.702621     48128  5.545531   \n5        0                NoPacker  0.000000  0.000000  13411640  7.999277   \n6        1       Armadillov1xxv2xx  6.595606  2.843601    397936  6.295515   \n7        0                NoPacker  5.990481  1.425743     61968  5.766049   \n8        0                NoPacker  6.019617  3.185497     54272  6.002727   \n9        0                NoPacker  5.888318  2.588086   4079104  3.804131   \n10       1       Armadillov1xxv2xx  6.030864  0.013127    106496  6.089725   \n11       1  NETexecutableMicrosoft  4.618148  0.000000     26528  3.954612   \n12       0                NoPacker  5.628197  0.000000     56192  5.491777   \n13       1       Armadillov1xxv2xx  5.861511  4.873827    787048  5.864200   \n14       1         NETDLLMicrosoft  5.955344  0.000000    163840  5.678147   \n15       0                NoPacker  6.339108  5.202294    287720  6.459923   \n16       0                NoPacker  6.242945  1.089470    467456  5.794842   \n17       0                NoPacker  6.496900  0.460718     45016  6.728306   \n18       0                NoPacker  6.509003  0.498823   2904952  7.997966   \n19       0                NoPacker  6.583587  0.513491   4051984  7.998836   \n\n    fileinfo  class  \n0          1      0  \n1          0      0  \n2          1      0  \n3          1      0  \n4          1      0  \n5          1      0  \n6          1      0  \n7          1      0  \n8          1      0  \n9          0      0  \n10         0      0  \n11         0      0  \n12         1      0  \n13         1      0  \n14         1      0  \n15         1      0  \n16         1      0  \n17         1      0  \n18         1      0  \n19         1      0  \n\n[20 rows x 70 columns]",
      "text/html": "<div>\n<style scoped>\n    .dataframe tbody tr th:only-of-type {\n        vertical-align: middle;\n    }\n\n    .dataframe tbody tr th {\n        vertical-align: top;\n    }\n\n    .dataframe thead th {\n        text-align: right;\n    }\n</style>\n<table border=\"1\" class=\"dataframe\">\n  <thead>\n    <tr style=\"text-align: right;\">\n      <th></th>\n      <th>e_cblp</th>\n      <th>e_cp</th>\n      <th>e_cparhdr</th>\n      <th>e_maxalloc</th>\n      <th>e_sp</th>\n      <th>e_lfanew</th>\n      <th>NumberOfSections</th>\n      <th>CreationYear</th>\n      <th>FH_char0</th>\n      <th>FH_char1</th>\n      <th>...</th>\n      <th>sus_sections</th>\n      <th>non_sus_sections</th>\n      <th>packer</th>\n      <th>packer_type</th>\n      <th>E_text</th>\n      <th>E_data</th>\n      <th>filesize</th>\n      <th>E_file</th>\n      <th>fileinfo</th>\n      <th>class</th>\n    </tr>\n  </thead>\n  <tbody>\n    <tr>\n      <th>0</th>\n      <td>144</td>\n      <td>3</td>\n      <td>4</td>\n      <td>65535</td>\n      <td>184</td>\n      <td>256</td>\n      <td>4</td>\n      <td>1</td>\n      <td>0</td>\n      <td>1</td>\n      <td>...</td>\n      <td>1</td>\n      <td>3</td>\n      <td>0</td>\n      <td>NoPacker</td>\n      <td>6.603616</td>\n      <td>5.443362</td>\n      <td>1181520</td>\n      <td>6.627552</td>\n      <td>1</td>\n      <td>0</td>\n    </tr>\n    <tr>\n      <th>1</th>\n      <td>144</td>\n      <td>3</td>\n      <td>4</td>\n      <td>65535</td>\n      <td>184</td>\n      <td>184</td>\n      <td>4</td>\n      <td>1</td>\n      <td>0</td>\n      <td>1</td>\n      <td>...</td>\n      <td>1</td>\n      <td>3</td>\n      <td>0</td>\n      <td>NoPacker</td>\n      <td>5.205926</td>\n      <td>2.123522</td>\n      <td>7680</td>\n      <td>5.318221</td>\n      <td>0</td>\n      <td>0</td>\n    </tr>\n    <tr>\n      <th>2</th>\n      <td>144</td>\n      <td>3</td>\n      <td>4</td>\n      <td>65535</td>\n      <td>184</td>\n      <td>272</td>\n      <td>5</td>\n      <td>1</td>\n      <td>0</td>\n      <td>1</td>\n      <td>...</td>\n      <td>1</td>\n      <td>4</td>\n      <td>0</td>\n      <td>NoPacker</td>\n      <td>6.238000</td>\n      <td>3.380859</td>\n      <td>57872</td>\n      <td>6.507758</td>\n      <td>1</td>\n      <td>0</td>\n    </tr>\n    <tr>\n      <th>3</th>\n      <td>144</td>\n      <td>3</td>\n      <td>4</td>\n      <td>65535</td>\n      <td>184</td>\n      <td>184</td>\n      <td>1</td>\n      <td>1</td>\n      <td>0</td>\n      <td>1</td>\n      <td>...</td>\n      <td>0</td>\n      <td>1</td>\n      <td>0</td>\n      <td>NoPacker</td>\n      <td>0.000000</td>\n      <td>0.000000</td>\n      <td>95616</td>\n      <td>4.575092</td>\n      <td>1</td>\n      <td>0</td>\n    </tr>\n    <tr>\n      <th>4</th>\n      <td>144</td>\n      <td>3</td>\n      <td>4</td>\n      <td>65535</td>\n      <td>184</td>\n      <td>224</td>\n      <td>5</td>\n      <td>1</td>\n      <td>0</td>\n      <td>1</td>\n      <td>...</td>\n      <td>1</td>\n      <td>4</td>\n      <td>0</td>\n      <td>NoPacker</td>\n      <td>6.355626</td>\n      <td>0.702621</td>\n      <td>48128</td>\n      <td>5.545531</td>\n      <td>1</td>\n      <td>0</td>\n    </tr>\n    <tr>\n      <th>5</th>\n      <td>80</td>\n      <td>2</td>\n      <td>4</td>\n      <td>65535</td>\n      <td>184</td>\n      <td>256</td>\n      <td>8</td>\n      <td>1</td>\n      <td>0</td>\n      <td>1</td>\n      <td>...</td>\n      <td>4</td>\n      <td>4</td>\n      <td>0</td>\n      <td>NoPacker</td>\n      <td>0.000000</td>\n      <td>0.000000</td>\n      <td>13411640</td>\n      <td>7.999277</td>\n      <td>1</td>\n      <td>0</td>\n    </tr>\n    <tr>\n      <th>6</th>\n      <td>144</td>\n      <td>3</td>\n      <td>4</td>\n      <td>65535</td>\n      <td>184</td>\n      <td>272</td>\n      <td>8</td>\n      <td>1</td>\n      <td>0</td>\n      <td>1</td>\n      <td>...</td>\n      <td>4</td>\n      <td>4</td>\n      <td>1</td>\n      <td>Armadillov1xxv2xx</td>\n      <td>6.595606</td>\n      <td>2.843601</td>\n      <td>397936</td>\n      <td>6.295515</td>\n      <td>1</td>\n      <td>0</td>\n    </tr>\n    <tr>\n      <th>7</th>\n      <td>144</td>\n      <td>3</td>\n      <td>4</td>\n      <td>65535</td>\n      <td>184</td>\n      <td>256</td>\n      <td>5</td>\n      <td>1</td>\n      <td>0</td>\n      <td>1</td>\n      <td>...</td>\n      <td>1</td>\n      <td>4</td>\n      <td>0</td>\n      <td>NoPacker</td>\n      <td>5.990481</td>\n      <td>1.425743</td>\n      <td>61968</td>\n      <td>5.766049</td>\n      <td>1</td>\n      <td>0</td>\n    </tr>\n    <tr>\n      <th>8</th>\n      <td>144</td>\n      <td>3</td>\n      <td>4</td>\n      <td>65535</td>\n      <td>184</td>\n      <td>240</td>\n      <td>5</td>\n      <td>1</td>\n      <td>0</td>\n      <td>1</td>\n      <td>...</td>\n      <td>1</td>\n      <td>4</td>\n      <td>0</td>\n      <td>NoPacker</td>\n      <td>6.019617</td>\n      <td>3.185497</td>\n      <td>54272</td>\n      <td>6.002727</td>\n      <td>1</td>\n      <td>0</td>\n    </tr>\n    <tr>\n      <th>9</th>\n      <td>144</td>\n      <td>3</td>\n      <td>4</td>\n      <td>65535</td>\n      <td>184</td>\n      <td>224</td>\n      <td>6</td>\n      <td>1</td>\n      <td>0</td>\n      <td>1</td>\n      <td>...</td>\n      <td>1</td>\n      <td>5</td>\n      <td>0</td>\n      <td>NoPacker</td>\n      <td>5.888318</td>\n      <td>2.588086</td>\n      <td>4079104</td>\n      <td>3.804131</td>\n      <td>0</td>\n      <td>0</td>\n    </tr>\n    <tr>\n      <th>10</th>\n      <td>144</td>\n      <td>3</td>\n      <td>4</td>\n      <td>65535</td>\n      <td>184</td>\n      <td>248</td>\n      <td>4</td>\n      <td>1</td>\n      <td>0</td>\n      <td>1</td>\n      <td>...</td>\n      <td>1</td>\n      <td>3</td>\n      <td>1</td>\n      <td>Armadillov1xxv2xx</td>\n      <td>6.030864</td>\n      <td>0.013127</td>\n      <td>106496</td>\n      <td>6.089725</td>\n      <td>0</td>\n      <td>0</td>\n    </tr>\n    <tr>\n      <th>11</th>\n      <td>144</td>\n      <td>3</td>\n      <td>4</td>\n      <td>65535</td>\n      <td>184</td>\n      <td>128</td>\n      <td>3</td>\n      <td>1</td>\n      <td>0</td>\n      <td>1</td>\n      <td>...</td>\n      <td>1</td>\n      <td>2</td>\n      <td>1</td>\n      <td>NETexecutableMicrosoft</td>\n      <td>4.618148</td>\n      <td>0.000000</td>\n      <td>26528</td>\n      <td>3.954612</td>\n      <td>0</td>\n      <td>0</td>\n    </tr>\n    <tr>\n      <th>12</th>\n      <td>144</td>\n      <td>3</td>\n      <td>4</td>\n      <td>65535</td>\n      <td>184</td>\n      <td>200</td>\n      <td>3</td>\n      <td>1</td>\n      <td>1</td>\n      <td>1</td>\n      <td>...</td>\n      <td>0</td>\n      <td>3</td>\n      <td>0</td>\n      <td>NoPacker</td>\n      <td>5.628197</td>\n      <td>0.000000</td>\n      <td>56192</td>\n      <td>5.491777</td>\n      <td>1</td>\n      <td>0</td>\n    </tr>\n    <tr>\n      <th>13</th>\n      <td>144</td>\n      <td>3</td>\n      <td>4</td>\n      <td>65535</td>\n      <td>184</td>\n      <td>272</td>\n      <td>8</td>\n      <td>1</td>\n      <td>0</td>\n      <td>1</td>\n      <td>...</td>\n      <td>3</td>\n      <td>5</td>\n      <td>1</td>\n      <td>Armadillov1xxv2xx</td>\n      <td>5.861511</td>\n      <td>4.873827</td>\n      <td>787048</td>\n      <td>5.864200</td>\n      <td>1</td>\n      <td>0</td>\n    </tr>\n    <tr>\n      <th>14</th>\n      <td>144</td>\n      <td>3</td>\n      <td>4</td>\n      <td>65535</td>\n      <td>184</td>\n      <td>128</td>\n      <td>3</td>\n      <td>1</td>\n      <td>0</td>\n      <td>1</td>\n      <td>...</td>\n      <td>1</td>\n      <td>2</td>\n      <td>1</td>\n      <td>NETDLLMicrosoft</td>\n      <td>5.955344</td>\n      <td>0.000000</td>\n      <td>163840</td>\n      <td>5.678147</td>\n      <td>1</td>\n      <td>0</td>\n    </tr>\n    <tr>\n      <th>15</th>\n      <td>144</td>\n      <td>3</td>\n      <td>4</td>\n      <td>65535</td>\n      <td>184</td>\n      <td>240</td>\n      <td>4</td>\n      <td>1</td>\n      <td>0</td>\n      <td>1</td>\n      <td>...</td>\n      <td>1</td>\n      <td>3</td>\n      <td>0</td>\n      <td>NoPacker</td>\n      <td>6.339108</td>\n      <td>5.202294</td>\n      <td>287720</td>\n      <td>6.459923</td>\n      <td>1</td>\n      <td>0</td>\n    </tr>\n    <tr>\n      <th>16</th>\n      <td>144</td>\n      <td>3</td>\n      <td>4</td>\n      <td>65535</td>\n      <td>184</td>\n      <td>224</td>\n      <td>5</td>\n      <td>1</td>\n      <td>0</td>\n      <td>1</td>\n      <td>...</td>\n      <td>1</td>\n      <td>4</td>\n      <td>0</td>\n      <td>NoPacker</td>\n      <td>6.242945</td>\n      <td>1.089470</td>\n      <td>467456</td>\n      <td>5.794842</td>\n      <td>1</td>\n      <td>0</td>\n    </tr>\n    <tr>\n      <th>17</th>\n      <td>144</td>\n      <td>3</td>\n      <td>4</td>\n      <td>65535</td>\n      <td>184</td>\n      <td>248</td>\n      <td>5</td>\n      <td>1</td>\n      <td>0</td>\n      <td>1</td>\n      <td>...</td>\n      <td>1</td>\n      <td>4</td>\n      <td>0</td>\n      <td>NoPacker</td>\n      <td>6.496900</td>\n      <td>0.460718</td>\n      <td>45016</td>\n      <td>6.728306</td>\n      <td>1</td>\n      <td>0</td>\n    </tr>\n    <tr>\n      <th>18</th>\n      <td>144</td>\n      <td>3</td>\n      <td>4</td>\n      <td>65535</td>\n      <td>184</td>\n      <td>224</td>\n      <td>3</td>\n      <td>1</td>\n      <td>1</td>\n      <td>1</td>\n      <td>...</td>\n      <td>0</td>\n      <td>3</td>\n      <td>0</td>\n      <td>NoPacker</td>\n      <td>6.509003</td>\n      <td>0.498823</td>\n      <td>2904952</td>\n      <td>7.997966</td>\n      <td>1</td>\n      <td>0</td>\n    </tr>\n    <tr>\n      <th>19</th>\n      <td>144</td>\n      <td>3</td>\n      <td>4</td>\n      <td>65535</td>\n      <td>184</td>\n      <td>200</td>\n      <td>3</td>\n      <td>1</td>\n      <td>1</td>\n      <td>1</td>\n      <td>...</td>\n      <td>0</td>\n      <td>3</td>\n      <td>0</td>\n      <td>NoPacker</td>\n      <td>6.583587</td>\n      <td>0.513491</td>\n      <td>4051984</td>\n      <td>7.998836</td>\n      <td>1</td>\n      <td>0</td>\n    </tr>\n  </tbody>\n</table>\n<p>20 rows × 70 columns</p>\n</div>"
     },
     "execution_count": 7,
     "metadata": {},
     "output_type": "execute_result"
    }
   ],
   "source": [
    "import pandas as pd\n",
    "\n",
    "data = pd.read_csv('ClaMP_Integrated-5184.csv')\n",
    "data.head(20)"
   ]
  },
  {
   "cell_type": "markdown",
   "source": [
    "*Data Preprocessing*\n",
    "We will use the LabelEncoder class of the sklearn.preprocessing library to convert the data into an array. We will convert the data in the \"sus_sections\" column to 0, 1, 2 ,3 and 4. 0 means that the file is not malware and 1, 2, 3, 4 means that the file is malware it also shows the level effect."
   ],
   "metadata": {
    "collapsed": false
   },
   "id": "bdbab9390095fda0"
  },
  {
   "cell_type": "code",
   "execution_count": 8,
   "outputs": [
    {
     "name": "stdout",
     "output_type": "stream",
     "text": [
      "0     1\n",
      "1     1\n",
      "2     1\n",
      "3     0\n",
      "4     1\n",
      "5     4\n",
      "6     4\n",
      "7     1\n",
      "8     1\n",
      "9     1\n",
      "10    1\n",
      "11    1\n",
      "12    0\n",
      "13    3\n",
      "14    1\n",
      "15    1\n",
      "16    1\n",
      "17    1\n",
      "18    0\n",
      "19    0\n",
      "Name: sus_sections, dtype: int64\n"
     ]
    }
   ],
   "source": [
    "from sklearn.preprocessing import LabelEncoder\n",
    "\n",
    "le = LabelEncoder()\n",
    "data[\"sus_sections\"] = le.fit_transform(data[\"sus_sections\"])\n",
    "print(data[\"sus_sections\"].head(20))\n"
   ],
   "metadata": {
    "collapsed": false,
    "ExecuteTime": {
     "end_time": "2023-10-28T06:05:38.260327654Z",
     "start_time": "2023-10-28T06:05:38.248315912Z"
    }
   },
   "id": "61450d91a0893ddd"
  },
  {
   "cell_type": "markdown",
   "source": [
    "*Encode the data*\n",
    "We will use the OneHotEncoder class of the sklearn.preprocessing library to convert the data into an array. We will convert the data in the \"sus_sections\" column to 0, 1, 2 ,3 and 4. 0 means that the file is not malware and 1, 2, 3, 4 means that the file is malware it also shows the level effect."
   ],
   "metadata": {
    "collapsed": false
   },
   "id": "b6d16e7f04e6afaf"
  },
  {
   "cell_type": "code",
   "execution_count": 9,
   "outputs": [
    {
     "name": "stdout",
     "output_type": "stream",
     "text": [
      "[[0. 0. 0. ... 1. 1. 0.]\n",
      " [0. 0. 0. ... 0. 1. 0.]\n",
      " [0. 0. 0. ... 1. 1. 0.]\n",
      " ...\n",
      " [0. 0. 0. ... 1. 1. 0.]\n",
      " [0. 0. 0. ... 1. 1. 0.]\n",
      " [0. 0. 0. ... 1. 1. 0.]]\n"
     ]
    }
   ],
   "source": [
    "from sklearn.preprocessing import OneHotEncoder\n",
    "\n",
    "ohe = OneHotEncoder()\n",
    "data = ohe.fit_transform(data).toarray()\n",
    "print(data[0:20])"
   ],
   "metadata": {
    "collapsed": false,
    "ExecuteTime": {
     "end_time": "2023-10-28T06:05:38.748871062Z",
     "start_time": "2023-10-28T06:05:38.261057421Z"
    }
   },
   "id": "841cd5b29e167c75"
  }
 ],
 "metadata": {
  "kernelspec": {
   "display_name": "Python 3",
   "language": "python",
   "name": "python3"
  },
  "language_info": {
   "codemirror_mode": {
    "name": "ipython",
    "version": 2
   },
   "file_extension": ".py",
   "mimetype": "text/x-python",
   "name": "python",
   "nbconvert_exporter": "python",
   "pygments_lexer": "ipython2",
   "version": "2.7.6"
  }
 },
 "nbformat": 4,
 "nbformat_minor": 5
}
