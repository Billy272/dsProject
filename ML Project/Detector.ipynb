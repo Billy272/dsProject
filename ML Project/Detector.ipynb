{
 "cells": [
  {
   "cell_type": "markdown",
   "source": [
    "**Machine Learning Detector for Malware**\n",
    "\n",
    "*Signature Based Analysis*\n",
    "This is effective for known malware, but not for new malware.It is also not effective for polymorphic malware. It is fast and efficient."
   ],
   "metadata": {
    "collapsed": false
   },
   "id": "59d4625f59d31b03"
  },
  {
   "cell_type": "code",
   "execution_count": null,
   "id": "initial_id",
   "metadata": {
    "collapsed": true
   },
   "outputs": [],
   "source": []
  }
 ],
 "metadata": {
  "kernelspec": {
   "display_name": "Python 3",
   "language": "python",
   "name": "python3"
  },
  "language_info": {
   "codemirror_mode": {
    "name": "ipython",
    "version": 2
   },
   "file_extension": ".py",
   "mimetype": "text/x-python",
   "name": "python",
   "nbconvert_exporter": "python",
   "pygments_lexer": "ipython2",
   "version": "2.7.6"
  }
 },
 "nbformat": 4,
 "nbformat_minor": 5
}
