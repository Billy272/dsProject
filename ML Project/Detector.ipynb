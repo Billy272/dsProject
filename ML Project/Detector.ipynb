{
 "cells": [
  {
   "cell_type": "markdown",
   "source": [
    "**Machine Learning Detector for Malware**\n",
    "\n",
    "*Signature Based Analysis*\n",
    "This is effective for known malware, but not for new malware.It is also not effective for polymorphic malware. It is fast and efficient.\n",
    "\n",
    "First, we will import the libraries we need for this project from ClaMP_Integrated-5184.csv. We will use the pandas library to read the csv file and the numpy library to convert the data into an array. We will only show a sample of the data. But working on the project will be done with the entire data."
   ],
   "metadata": {
    "collapsed": false
   },
   "id": "59d4625f59d31b03"
  },
  {
   "cell_type": "code",
   "execution_count": 1,
   "id": "initial_id",
   "metadata": {
    "collapsed": true,
    "ExecuteTime": {
     "end_time": "2023-10-26T18:13:19.891847259Z",
     "start_time": "2023-10-26T18:13:19.281544229Z"
    }
   },
   "outputs": [
    {
     "data": {
      "text/plain": "   e_cblp  e_cp  e_cparhdr  e_maxalloc  e_sp  e_lfanew  NumberOfSections  \\\n0     144     3          4       65535   184       256                 4   \n1     144     3          4       65535   184       184                 4   \n2     144     3          4       65535   184       272                 5   \n3     144     3          4       65535   184       184                 1   \n4     144     3          4       65535   184       224                 5   \n\n   CreationYear  FH_char0  FH_char1  ...  sus_sections  non_sus_sections  \\\n0             1         0         1  ...             1                 3   \n1             1         0         1  ...             1                 3   \n2             1         0         1  ...             1                 4   \n3             1         0         1  ...             0                 1   \n4             1         0         1  ...             1                 4   \n\n   packer  packer_type    E_text    E_data  filesize    E_file  fileinfo  \\\n0       0     NoPacker  6.603616  5.443362   1181520  6.627552         1   \n1       0     NoPacker  5.205926  2.123522      7680  5.318221         0   \n2       0     NoPacker  6.238000  3.380859     57872  6.507758         1   \n3       0     NoPacker  0.000000  0.000000     95616  4.575092         1   \n4       0     NoPacker  6.355626  0.702621     48128  5.545531         1   \n\n   class  \n0      0  \n1      0  \n2      0  \n3      0  \n4      0  \n\n[5 rows x 70 columns]",
      "text/html": "<div>\n<style scoped>\n    .dataframe tbody tr th:only-of-type {\n        vertical-align: middle;\n    }\n\n    .dataframe tbody tr th {\n        vertical-align: top;\n    }\n\n    .dataframe thead th {\n        text-align: right;\n    }\n</style>\n<table border=\"1\" class=\"dataframe\">\n  <thead>\n    <tr style=\"text-align: right;\">\n      <th></th>\n      <th>e_cblp</th>\n      <th>e_cp</th>\n      <th>e_cparhdr</th>\n      <th>e_maxalloc</th>\n      <th>e_sp</th>\n      <th>e_lfanew</th>\n      <th>NumberOfSections</th>\n      <th>CreationYear</th>\n      <th>FH_char0</th>\n      <th>FH_char1</th>\n      <th>...</th>\n      <th>sus_sections</th>\n      <th>non_sus_sections</th>\n      <th>packer</th>\n      <th>packer_type</th>\n      <th>E_text</th>\n      <th>E_data</th>\n      <th>filesize</th>\n      <th>E_file</th>\n      <th>fileinfo</th>\n      <th>class</th>\n    </tr>\n  </thead>\n  <tbody>\n    <tr>\n      <th>0</th>\n      <td>144</td>\n      <td>3</td>\n      <td>4</td>\n      <td>65535</td>\n      <td>184</td>\n      <td>256</td>\n      <td>4</td>\n      <td>1</td>\n      <td>0</td>\n      <td>1</td>\n      <td>...</td>\n      <td>1</td>\n      <td>3</td>\n      <td>0</td>\n      <td>NoPacker</td>\n      <td>6.603616</td>\n      <td>5.443362</td>\n      <td>1181520</td>\n      <td>6.627552</td>\n      <td>1</td>\n      <td>0</td>\n    </tr>\n    <tr>\n      <th>1</th>\n      <td>144</td>\n      <td>3</td>\n      <td>4</td>\n      <td>65535</td>\n      <td>184</td>\n      <td>184</td>\n      <td>4</td>\n      <td>1</td>\n      <td>0</td>\n      <td>1</td>\n      <td>...</td>\n      <td>1</td>\n      <td>3</td>\n      <td>0</td>\n      <td>NoPacker</td>\n      <td>5.205926</td>\n      <td>2.123522</td>\n      <td>7680</td>\n      <td>5.318221</td>\n      <td>0</td>\n      <td>0</td>\n    </tr>\n    <tr>\n      <th>2</th>\n      <td>144</td>\n      <td>3</td>\n      <td>4</td>\n      <td>65535</td>\n      <td>184</td>\n      <td>272</td>\n      <td>5</td>\n      <td>1</td>\n      <td>0</td>\n      <td>1</td>\n      <td>...</td>\n      <td>1</td>\n      <td>4</td>\n      <td>0</td>\n      <td>NoPacker</td>\n      <td>6.238000</td>\n      <td>3.380859</td>\n      <td>57872</td>\n      <td>6.507758</td>\n      <td>1</td>\n      <td>0</td>\n    </tr>\n    <tr>\n      <th>3</th>\n      <td>144</td>\n      <td>3</td>\n      <td>4</td>\n      <td>65535</td>\n      <td>184</td>\n      <td>184</td>\n      <td>1</td>\n      <td>1</td>\n      <td>0</td>\n      <td>1</td>\n      <td>...</td>\n      <td>0</td>\n      <td>1</td>\n      <td>0</td>\n      <td>NoPacker</td>\n      <td>0.000000</td>\n      <td>0.000000</td>\n      <td>95616</td>\n      <td>4.575092</td>\n      <td>1</td>\n      <td>0</td>\n    </tr>\n    <tr>\n      <th>4</th>\n      <td>144</td>\n      <td>3</td>\n      <td>4</td>\n      <td>65535</td>\n      <td>184</td>\n      <td>224</td>\n      <td>5</td>\n      <td>1</td>\n      <td>0</td>\n      <td>1</td>\n      <td>...</td>\n      <td>1</td>\n      <td>4</td>\n      <td>0</td>\n      <td>NoPacker</td>\n      <td>6.355626</td>\n      <td>0.702621</td>\n      <td>48128</td>\n      <td>5.545531</td>\n      <td>1</td>\n      <td>0</td>\n    </tr>\n  </tbody>\n</table>\n<p>5 rows × 70 columns</p>\n</div>"
     },
     "execution_count": 1,
     "metadata": {},
     "output_type": "execute_result"
    }
   ],
   "source": [
    "import pandas as pd\n",
    "\n",
    "data = pd.read_csv('ClaMP_Integrated-5184.csv')\n",
    "data.head()"
   ]
  },
  {
   "cell_type": "markdown",
   "source": [],
   "metadata": {
    "collapsed": false
   },
   "id": "bdbab9390095fda0"
  },
  {
   "cell_type": "code",
   "execution_count": null,
   "outputs": [],
   "source": [],
   "metadata": {
    "collapsed": false
   },
   "id": "61450d91a0893ddd"
  },
  {
   "cell_type": "markdown",
   "source": [],
   "metadata": {
    "collapsed": false
   },
   "id": "b6d16e7f04e6afaf"
  }
 ],
 "metadata": {
  "kernelspec": {
   "display_name": "Python 3",
   "language": "python",
   "name": "python3"
  },
  "language_info": {
   "codemirror_mode": {
    "name": "ipython",
    "version": 2
   },
   "file_extension": ".py",
   "mimetype": "text/x-python",
   "name": "python",
   "nbconvert_exporter": "python",
   "pygments_lexer": "ipython2",
   "version": "2.7.6"
  }
 },
 "nbformat": 4,
 "nbformat_minor": 5
}
